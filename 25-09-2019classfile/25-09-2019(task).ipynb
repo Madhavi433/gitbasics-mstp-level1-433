{
 "cells": [
  {
   "cell_type": "markdown",
   "metadata": {},
   "source": [
    "1.Function to print all numbers divisible by 6 and not a factor \n",
    "of 100 in a given range(lb, ub) inclusive"
   ]
  },
  {
   "cell_type": "code",
   "execution_count": 2,
   "metadata": {},
   "outputs": [
    {
     "name": "stdout",
     "output_type": "stream",
     "text": [
      "50\n",
      "100\n",
      "54\n",
      "60\n",
      "66\n",
      "72\n",
      "78\n",
      "84\n",
      "90\n",
      "96\n"
     ]
    }
   ],
   "source": [
    "def division(lb):\n",
    "    if((lb%6==0)&(100%lb!=0)):\n",
    "        print(lb)\n",
    "lb=int(input())\n",
    "ub=int(input())\n",
    "for i in range(lb,ub):\n",
    "    division(i)"
   ]
  },
  {
   "cell_type": "markdown",
   "metadata": {},
   "source": [
    "2.program to print the all the even no in range inclusive"
   ]
  },
  {
   "cell_type": "code",
   "execution_count": 4,
   "metadata": {},
   "outputs": [
    {
     "name": "stdout",
     "output_type": "stream",
     "text": [
      "20\n",
      "30\n",
      "20\n",
      "22\n",
      "24\n",
      "26\n",
      "28\n"
     ]
    }
   ],
   "source": [
    "def even(lb):\n",
    "    if(lb%2==0):\n",
    "        return 1\n",
    "    else:\n",
    "        return 0\n",
    "lb=int(input())\n",
    "ub=int(input())\n",
    "for i in range(lb,ub):\n",
    "    if even(i)==1:\n",
    "        print(i)"
   ]
  },
  {
   "cell_type": "markdown",
   "metadata": {},
   "source": [
    "3..Function to find the average of cubes of all even numbers in a \n",
    "given range(lb, ub) inclusive"
   ]
  },
  {
   "cell_type": "code",
   "execution_count": 10,
   "metadata": {},
   "outputs": [
    {
     "name": "stdout",
     "output_type": "stream",
     "text": [
      "4\n",
      "5\n",
      "avg 64.0\n"
     ]
    }
   ],
   "source": [
    "def cube(lb,ub):\n",
    "    c=0\n",
    "    s=0\n",
    "    for i in range(lb,ub):\n",
    "        if(i%2==0):\n",
    "            a=i**3\n",
    "            s=s+a\n",
    "            c=c+1\n",
    "            print(\"avg\",s/c)\n",
    "lb=int(input())\n",
    "ub=int(input())\n",
    "cube(lb,ub)"
   ]
  },
  {
   "cell_type": "markdown",
   "metadata": {},
   "source": [
    "4.program to print all the sum of perfect numbers in a given range"
   ]
  },
  {
   "cell_type": "code",
   "execution_count": 13,
   "metadata": {},
   "outputs": [
    {
     "name": "stdout",
     "output_type": "stream",
     "text": [
      "1\n",
      "10\n",
      "1\n",
      "2\n",
      "3\n",
      "4\n",
      "5\n",
      "6\n",
      "7\n",
      "8\n",
      "9\n"
     ]
    }
   ],
   "source": [
    "def perfect(lb):\n",
    "    sum=0\n",
    "    for i in range(1,lb):\n",
    "        if(lb%i==0):\n",
    "            sum=sum+i\n",
    "    if(sum==lb):\n",
    "        print(\"perfect--->\",lb)\n",
    "lb=int(input())\n",
    "ub=int(input())\n",
    "for j in range(lb,ub):\n",
    "          print(j)"
   ]
  },
  {
   "cell_type": "markdown",
   "metadata": {},
   "source": [
    "5.Function to generate N odd armstrong number"
   ]
  },
  {
   "cell_type": "code",
   "execution_count": 9,
   "metadata": {},
   "outputs": [
    {
     "name": "stdout",
     "output_type": "stream",
     "text": [
      "153\n",
      "153\n",
      "odd armstrong\n"
     ]
    }
   ],
   "source": [
    "def armstrong(n):\n",
    "    s=0\n",
    "    a=n\n",
    "    for i in range(1,n+1):\n",
    "        r=n%10\n",
    "        s=s+r**3\n",
    "        n=n//10\n",
    "    print(s)\n",
    "    if (a==s):\n",
    "        print(\"odd armstrong\")\n",
    "    else:\n",
    "        print(\"not armstrong\")\n",
    "n=int(input())\n",
    "armstrong(n)"
   ]
  },
  {
   "cell_type": "code",
   "execution_count": null,
   "metadata": {},
   "outputs": [],
   "source": []
  }
 ],
 "metadata": {
  "kernelspec": {
   "display_name": "Python 3",
   "language": "python",
   "name": "python3"
  },
  "language_info": {
   "codemirror_mode": {
    "name": "ipython",
    "version": 3
   },
   "file_extension": ".py",
   "mimetype": "text/x-python",
   "name": "python",
   "nbconvert_exporter": "python",
   "pygments_lexer": "ipython3",
   "version": "3.7.3"
  }
 },
 "nbformat": 4,
 "nbformat_minor": 2
}
