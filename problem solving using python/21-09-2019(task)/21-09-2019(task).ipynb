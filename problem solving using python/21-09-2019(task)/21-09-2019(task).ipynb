{
 "cells": [
  {
   "cell_type": "markdown",
   "metadata": {},
   "source": [
    "### Task"
   ]
  },
  {
   "cell_type": "markdown",
   "metadata": {},
   "source": [
    " 1.Write a Python program to print the following string ,you should use only one print statement.\n",
    "Output=\"wecome to Apssdc\n",
    "Mstp Program\""
   ]
  },
  {
   "cell_type": "code",
   "execution_count": 1,
   "metadata": {},
   "outputs": [
    {
     "name": "stdout",
     "output_type": "stream",
     "text": [
      "\"welcome to apssdc \n",
      " mstp program\"\n"
     ]
    }
   ],
   "source": [
    "print('\"welcome to apssdc \\n mstp program\"')"
   ]
  },
  {
   "cell_type": "markdown",
   "metadata": {},
   "source": [
    "2.Write a Python program to print the following result,you should use only one print statement.\n",
    "output=\"* * * * *\n",
    "* * *\n",
    "* * \""
   ]
  },
  {
   "cell_type": "code",
   "execution_count": 2,
   "metadata": {},
   "outputs": [
    {
     "name": "stdout",
     "output_type": "stream",
     "text": [
      "\"***** \n",
      " *** \n",
      " **\"\n"
     ]
    }
   ],
   "source": [
    "print('\"***** \\n *** \\n **\"')"
   ]
  },
  {
   "cell_type": "markdown",
   "metadata": {},
   "source": [
    "3.Write a Python program to print the pi value and also type of that pi."
   ]
  },
  {
   "cell_type": "code",
   "execution_count": 3,
   "metadata": {},
   "outputs": [
    {
     "name": "stdout",
     "output_type": "stream",
     "text": [
      "3.141592653589793\n"
     ]
    }
   ],
   "source": [
    "import math\n",
    "print(math.pi)"
   ]
  },
  {
   "cell_type": "markdown",
   "metadata": {},
   "source": [
    "4.Write a Python program to print the 101 power of 3."
   ]
  },
  {
   "cell_type": "code",
   "execution_count": 4,
   "metadata": {},
   "outputs": [
    {
     "name": "stdout",
     "output_type": "stream",
     "text": [
      "power 1030301\n"
     ]
    }
   ],
   "source": [
    "m=101\n",
    "print(\"power\",m**3)"
   ]
  },
  {
   "cell_type": "markdown",
   "metadata": {},
   "source": [
    "5.Write a Python program to find the average of a 23,46"
   ]
  },
  {
   "cell_type": "code",
   "execution_count": 5,
   "metadata": {},
   "outputs": [
    {
     "name": "stdout",
     "output_type": "stream",
     "text": [
      "46.0\n"
     ]
    }
   ],
   "source": [
    "m=23\n",
    "n=46\n",
    "print(m+n/2)"
   ]
  },
  {
   "cell_type": "markdown",
   "metadata": {},
   "source": [
    "6.Write a Python program to convert a number 23 into an string and print finally that data type."
   ]
  },
  {
   "cell_type": "code",
   "execution_count": 6,
   "metadata": {},
   "outputs": [
    {
     "data": {
      "text/plain": [
       "str"
      ]
     },
     "execution_count": 6,
     "metadata": {},
     "output_type": "execute_result"
    }
   ],
   "source": [
    "m=23\n",
    "s=str(m)\n",
    "s\n",
    "type(s)"
   ]
  },
  {
   "cell_type": "markdown",
   "metadata": {},
   "source": [
    "7.Write a Python program to find following operations for this numbers i,e 123,659\n",
    "addition\n",
    "subtraction\n",
    "multiplication\n",
    "division\n",
    "floor division"
   ]
  },
  {
   "cell_type": "code",
   "execution_count": 7,
   "metadata": {},
   "outputs": [
    {
     "name": "stdout",
     "output_type": "stream",
     "text": [
      "addition 782\n",
      "substraction -536\n",
      "multiplication 81057\n",
      "division 0.18664643399089528\n",
      "floordivision 0\n"
     ]
    }
   ],
   "source": [
    "l=123\n",
    "m=659\n",
    "print(\"addition\",l+m)\n",
    "print(\"substraction\",l-m)\n",
    "print(\"multiplication\",l*m)\n",
    "print(\"division\",l/m)\n",
    "print(\"floordivision\",l//m)"
   ]
  },
  {
   "cell_type": "markdown",
   "metadata": {},
   "source": [
    "8.Write a Python program to print the values of x,y,z and in x,y,z assigning data is \"kvsw123\"(Initialize the variables in a single line)"
   ]
  },
  {
   "cell_type": "code",
   "execution_count": 8,
   "metadata": {},
   "outputs": [
    {
     "name": "stdout",
     "output_type": "stream",
     "text": [
      "kvsw123\n"
     ]
    }
   ],
   "source": [
    "x=y=z=\"kvsw123\"\n",
    "print(z)"
   ]
  },
  {
   "cell_type": "markdown",
   "metadata": {},
   "source": [
    "9.Write a Python program to print the x,y,z and x,y,z values are \"python\",31.567,6+89j((Initialize the variables in single line)"
   ]
  },
  {
   "cell_type": "code",
   "execution_count": 9,
   "metadata": {},
   "outputs": [
    {
     "name": "stdout",
     "output_type": "stream",
     "text": [
      "python 31.567 (6+89j)\n"
     ]
    }
   ],
   "source": [
    "print(\"python\",31.567,6+89j)"
   ]
  },
  {
   "cell_type": "markdown",
   "metadata": {},
   "source": [
    "10.write python program to print the result,here in x variable contains data is \"python\"\n",
    "output:Awesome Python"
   ]
  },
  {
   "cell_type": "code",
   "execution_count": 11,
   "metadata": {},
   "outputs": [
    {
     "name": "stdout",
     "output_type": "stream",
     "text": [
      "Awesome python\n"
     ]
    }
   ],
   "source": [
    "x=\"python\"\n",
    "print(\"Awesome\",x)"
   ]
  },
  {
   "cell_type": "code",
   "execution_count": null,
   "metadata": {},
   "outputs": [],
   "source": []
  }
 ],
 "metadata": {
  "kernelspec": {
   "display_name": "Python 3",
   "language": "python",
   "name": "python3"
  },
  "language_info": {
   "codemirror_mode": {
    "name": "ipython",
    "version": 3
   },
   "file_extension": ".py",
   "mimetype": "text/x-python",
   "name": "python",
   "nbconvert_exporter": "python",
   "pygments_lexer": "ipython3",
   "version": "3.7.3"
  }
 },
 "nbformat": 4,
 "nbformat_minor": 2
}
