{
 "cells": [
  {
   "cell_type": "markdown",
   "metadata": {},
   "source": [
    "# Task"
   ]
  },
  {
   "cell_type": "markdown",
   "metadata": {},
   "source": [
    "1.Write a Python program to get a string from a given string where all occurrences of its first char have been changed to '$', except the first char itself. \n",
    "\n",
    "Sample String : 'restart'\n",
    "\n",
    "Expected Result : 'resta$t' "
   ]
  },
  {
   "cell_type": "code",
   "execution_count": 6,
   "metadata": {},
   "outputs": [
    {
     "name": "stdout",
     "output_type": "stream",
     "text": [
      "resta$t\n"
     ]
    }
   ],
   "source": [
    "m=\"restart\"\n",
    "a=m[0:1:]\n",
    "c=m[1::]\n",
    "n=c.replace('r','$')\n",
    "print(a+n)"
   ]
  },
  {
   "cell_type": "markdown",
   "metadata": {},
   "source": [
    "2.Take a string “Problem Solving Using Python” \n",
    "\n",
    "●Find the length of the string \n",
    "\n",
    "●Change the string to lowercase \n",
    "\n",
    "●Print the string in reverse order \n",
    "\n",
    "●Split the string\n",
    "\n",
    "●Print the string without spaces \n",
    "\n",
    "●Find how many times “s” is repeated in a given string "
   ]
  },
  {
   "cell_type": "code",
   "execution_count": 9,
   "metadata": {},
   "outputs": [
    {
     "ename": "IndentationError",
     "evalue": "expected an indented block (<ipython-input-9-96bb1d7a7dc4>, line 7)",
     "output_type": "error",
     "traceback": [
      "\u001b[1;36m  File \u001b[1;32m\"<ipython-input-9-96bb1d7a7dc4>\"\u001b[1;36m, line \u001b[1;32m7\u001b[0m\n\u001b[1;33m    print(n[i],end=\"\")\u001b[0m\n\u001b[1;37m        ^\u001b[0m\n\u001b[1;31mIndentationError\u001b[0m\u001b[1;31m:\u001b[0m expected an indented block\n"
     ]
    }
   ],
   "source": [
    "n=\"problem Solving Using python\"\n",
    "print(len(n))\n",
    "print(n.lower())\n",
    "print(n[-1::-1])\n",
    "print(n.split())\n",
    "for i in range(0,len(n)):\n",
    "    print(n[i],end=\"\")\n",
    "print(n.count(\"s\"))"
   ]
  },
  {
   "cell_type": "markdown",
   "metadata": {},
   "source": [
    "3.Take a string “python programming by python platforms”\n",
    "\n",
    "●Find how many times “python” is repeated"
   ]
  },
  {
   "cell_type": "code",
   "execution_count": 14,
   "metadata": {},
   "outputs": [
    {
     "name": "stdout",
     "output_type": "stream",
     "text": [
      "2\n"
     ]
    }
   ],
   "source": [
    "d=\"python programming by python platforms\"\n",
    "print(d.count(\"python\"))"
   ]
  },
  {
   "cell_type": "code",
   "execution_count": null,
   "metadata": {},
   "outputs": [],
   "source": []
  }
 ],
 "metadata": {
  "kernelspec": {
   "display_name": "Python 3",
   "language": "python",
   "name": "python3"
  },
  "language_info": {
   "codemirror_mode": {
    "name": "ipython",
    "version": 3
   },
   "file_extension": ".py",
   "mimetype": "text/x-python",
   "name": "python",
   "nbconvert_exporter": "python",
   "pygments_lexer": "ipython3",
   "version": "3.7.3"
  }
 },
 "nbformat": 4,
 "nbformat_minor": 2
}
