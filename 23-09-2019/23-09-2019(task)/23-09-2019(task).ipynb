{
 "cells": [
  {
   "cell_type": "markdown",
   "metadata": {},
   "source": [
    "# Task"
   ]
  },
  {
   "cell_type": "markdown",
   "metadata": {},
   "source": [
    "1.Write a Python program to get a string from a given string where all occurrences of its first char have been changed to '$', except the first char itself. \n",
    "\n",
    "Sample String : 'restart'\n",
    "\n",
    "Expected Result : 'resta$t' "
   ]
  },
  {
   "cell_type": "code",
   "execution_count": 17,
   "metadata": {},
   "outputs": [
    {
     "name": "stdout",
     "output_type": "stream",
     "text": [
      "$estart\n"
     ]
    }
   ],
   "source": [
    "m=\"restart\"\n",
    "n=m.replace('r','$',1)\n",
    "print(n)"
   ]
  },
  {
   "cell_type": "markdown",
   "metadata": {},
   "source": [
    "2.Take a string “Problem Solving Using Python” \n",
    "\n",
    "●Find the length of the string \n",
    "\n",
    "●Change the string to lowercase \n",
    "\n",
    "●Print the string in reverse order \n",
    "\n",
    "●Split the string\n",
    "\n",
    "●Print the string without spaces \n",
    "\n",
    "●Find how many times “s” is repeated in a given string "
   ]
  },
  {
   "cell_type": "code",
   "execution_count": 21,
   "metadata": {},
   "outputs": [
    {
     "name": "stdout",
     "output_type": "stream",
     "text": [
      "28\n",
      "problem solving using python\n",
      "nohtyp gnisU gnivloS melborp\n",
      "['problem', 'Solving', 'Using', 'python']\n",
      "problemsolvingusingpython\n",
      "1\n"
     ]
    }
   ],
   "source": [
    "n=\"problem Solving Using python\"\n",
    "print(len(n))\n",
    "print(n.lower())\n",
    "print(n[-1::-1])\n",
    "print(n.split())\n",
    "print(\"problem\"+\"solving\"+\"using\"+\"python\")\n",
    "print(n.count(\"s\"))"
   ]
  },
  {
   "cell_type": "markdown",
   "metadata": {},
   "source": [
    "3.Take a string “python programming by python platforms”\n",
    "\n",
    "●Find how many times “python” is repeated"
   ]
  },
  {
   "cell_type": "code",
   "execution_count": 14,
   "metadata": {},
   "outputs": [
    {
     "name": "stdout",
     "output_type": "stream",
     "text": [
      "2\n"
     ]
    }
   ],
   "source": [
    "d=\"python programming by python platforms\"\n",
    "print(d.count(\"python\"))"
   ]
  },
  {
   "cell_type": "code",
   "execution_count": null,
   "metadata": {},
   "outputs": [],
   "source": []
  }
 ],
 "metadata": {
  "kernelspec": {
   "display_name": "Python 3",
   "language": "python",
   "name": "python3"
  },
  "language_info": {
   "codemirror_mode": {
    "name": "ipython",
    "version": 3
   },
   "file_extension": ".py",
   "mimetype": "text/x-python",
   "name": "python",
   "nbconvert_exporter": "python",
   "pygments_lexer": "ipython3",
   "version": "3.7.3"
  }
 },
 "nbformat": 4,
 "nbformat_minor": 2
}
