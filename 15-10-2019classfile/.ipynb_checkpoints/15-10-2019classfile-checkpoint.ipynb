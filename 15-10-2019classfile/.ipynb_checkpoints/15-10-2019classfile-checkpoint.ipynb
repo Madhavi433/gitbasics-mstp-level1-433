{
 "cells": [
  {
   "cell_type": "code",
   "execution_count": 3,
   "metadata": {},
   "outputs": [],
   "source": [
    "filepath=\"content.txt\"\n",
    "def create(filepath):\n",
    "    with open(filepath,'w') as f:\n",
    "        f.write(\"hii\\n hello\\n welcome to python\")\n",
    "create(filepath)"
   ]
  },
  {
   "cell_type": "code",
   "execution_count": 4,
   "metadata": {},
   "outputs": [
    {
     "name": "stdout",
     "output_type": "stream",
     "text": [
      "hii\n",
      " hello\n",
      " welcome to python\n"
     ]
    }
   ],
   "source": [
    "filepath=\"content.txt\"\n",
    "def readdata(filepath):\n",
    "    with open(filepath,'r') as f:\n",
    "        f1=f.read()\n",
    "        print(f1)\n",
    "readdata(filepath)"
   ]
  },
  {
   "cell_type": "markdown",
   "metadata": {},
   "source": [
    "# Generate a file of 50 students marks"
   ]
  },
  {
   "cell_type": "code",
   "execution_count": 6,
   "metadata": {},
   "outputs": [],
   "source": [
    "import random as m\n",
    "file=\"marks.txt\"\n",
    "def random(file,n):\n",
    "    with open(file,'w')as f:\n",
    "        for i in range(n):\n",
    "            f.write(str(m.randint(1,50))+'\\n')\n",
    "random(file,50)\n",
    "        \n",
    "        "
   ]
  },
  {
   "cell_type": "markdown",
   "metadata": {},
   "source": [
    "\n",
    "#find avg percentage\n",
    "#find pass percentage\n",
    "#find fail percentage\n",
    "#highest marks\n",
    "#lowest marks"
   ]
  },
  {
   "cell_type": "code",
   "execution_count": 8,
   "metadata": {},
   "outputs": [
    {
     "name": "stdout",
     "output_type": "stream",
     "text": [
      "1156\n",
      "50\n"
     ]
    },
    {
     "data": {
      "text/plain": [
       "23"
      ]
     },
     "execution_count": 8,
     "metadata": {},
     "output_type": "execute_result"
    }
   ],
   "source": [
    "file=\"marks.txt\"\n",
    "def average(file):\n",
    "    s=0\n",
    "    c=0\n",
    "    with open(file,'r')as f:\n",
    "        f1=f.read()\n",
    "        l=f1.split()\n",
    "        for i in l:\n",
    "            s=s+int(i)\n",
    "            c=c+1\n",
    "        average=s//c\n",
    "        print(s)\n",
    "        print(c)\n",
    "    return average\n",
    "average(file)"
   ]
  },
  {
   "cell_type": "code",
   "execution_count": 16,
   "metadata": {},
   "outputs": [
    {
     "name": "stdout",
     "output_type": "stream",
     "text": [
      "11\n",
      "22.0\n"
     ]
    }
   ],
   "source": [
    "file=\"marks.txt\"\n",
    "def passpercentage(file):\n",
    "    passcount=0\n",
    "    totalcount=0\n",
    "    with open(file,'r')as f:\n",
    "        m=f.read()\n",
    "        l=m.split()\n",
    "        for i in l:\n",
    "            totalcount+=1\n",
    "            if int(i)>=35:\n",
    "                passcount+=1\n",
    "    print(passcount)\n",
    "    print((passcount/totalcount)*100)\n",
    "passpercentage(file)\n",
    "                \n",
    "                \n",
    "\n",
    "            "
   ]
  },
  {
   "cell_type": "code",
   "execution_count": 12,
   "metadata": {},
   "outputs": [
    {
     "name": "stdout",
     "output_type": "stream",
     "text": [
      "50\n",
      "78.0\n"
     ]
    }
   ],
   "source": [
    "file=\"marks.txt\"\n",
    "def failpercentage(file):\n",
    "    count=0\n",
    "    totalcount=0\n",
    "    with open(file,'r')as f:\n",
    "        m=f.read()\n",
    "        l=m.split()\n",
    "        for i in l:\n",
    "            totalcount+=1\n",
    "            if int(i)<35:\n",
    "                count+=1\n",
    "    print(totalcount)\n",
    "    print((count/totalcount)*100)\n",
    "failpercentage(file)"
   ]
  },
  {
   "cell_type": "code",
   "execution_count": 17,
   "metadata": {},
   "outputs": [],
   "source": [
    "#highestmarks"
   ]
  },
  {
   "cell_type": "code",
   "execution_count": 6,
   "metadata": {},
   "outputs": [],
   "source": [
    "file=\"marks.txt\"\n",
    "def highestmarks(file):\n",
    "    count=0\n",
    "    sum=0\n",
    "    with open(file,'r')as f:\n",
    "        m=f.read()\n",
    "        l=m.split()\n",
    "        for i in l:\n",
    "            count+=1\n",
    "            if int(i)>=90:\n",
    "                print(i,end=\" \")\n",
    "highestmarks(file)"
   ]
  },
  {
   "cell_type": "code",
   "execution_count": 4,
   "metadata": {},
   "outputs": [],
   "source": [
    "#lowestmarks"
   ]
  },
  {
   "cell_type": "code",
   "execution_count": 5,
   "metadata": {},
   "outputs": [
    {
     "name": "stdout",
     "output_type": "stream",
     "text": [
      "15 5 12 11 8 12 16 8 4 2 8 15 2 2 1 4 13 17 17 19 1 "
     ]
    }
   ],
   "source": [
    "file=\"marks.txt\"\n",
    "def lowestmarks(file):\n",
    "    count=0\n",
    "    sum=0\n",
    "    with open(file,'r')as f:\n",
    "        m=f.read()\n",
    "        l=m.split()\n",
    "        for i in l:\n",
    "            count+=1\n",
    "            if int(i)<20:\n",
    "                print(i,end=\" \")\n",
    "lowestmarks(file)"
   ]
  },
  {
   "cell_type": "code",
   "execution_count": 6,
   "metadata": {},
   "outputs": [
    {
     "name": "stdout",
     "output_type": "stream",
     "text": [
      "['hii', ' hello', ' welcome to python', 'hii', ' ']\n",
      "  : 1\n",
      " welcome to python : 1\n",
      "hii : 2\n",
      " hello : 1\n"
     ]
    }
   ],
   "source": [
    "file=\"content.txt\"\n",
    "def frequencyofwords(file):\n",
    "    with open(file,'r')as f:\n",
    "        f1=f.read()\n",
    "        l=f1.split('\\n')\n",
    "        print(l)\n",
    "        for i in set(l):\n",
    "            print(i,':',l.count(i)) \n",
    "frequencyofwords(file)\n",
    "        "
   ]
  },
  {
   "cell_type": "code",
   "execution_count": null,
   "metadata": {},
   "outputs": [],
   "source": [
    "#frequwncy of words using dictionaries\n",
    "d={}\n",
    "s=\"abc holuyd 5636 98754\"\n",
    "for i in l:\n",
    "    d[i]=l.count(i)\n",
    "print(d)"
   ]
  },
  {
   "cell_type": "code",
   "execution_count": 10,
   "metadata": {},
   "outputs": [
    {
     "name": "stdout",
     "output_type": "stream",
     "text": [
      "['hii', ' hello', ' welcome to python', 'hii', ' ']\n"
     ]
    },
    {
     "data": {
      "text/plain": [
       "{'hii': 2, ' hello': 1, ' welcome to python': 1, ' ': 1}"
      ]
     },
     "execution_count": 10,
     "metadata": {},
     "output_type": "execute_result"
    }
   ],
   "source": [
    "file=\"content.txt\"\n",
    "def frequencyofwords(file):\n",
    "    d={}\n",
    "    with open(file,'r')as f:\n",
    "        f1=f.read()\n",
    "        l=f1.split('\\n')\n",
    "        print(l)\n",
    "        for i in l:\n",
    "            d[i]=l.count(i)\n",
    "    return d \n",
    "frequencyofwords(file)\n",
    "        "
   ]
  },
  {
   "cell_type": "code",
   "execution_count": 7,
   "metadata": {},
   "outputs": [
    {
     "name": "stdout",
     "output_type": "stream",
     "text": [
      "hii\n",
      " hello\n",
      " welcome to python\n",
      "hii\n",
      "  hii\n",
      " hello\n",
      " welcome to programming\n",
      "hii\n",
      "  "
     ]
    }
   ],
   "source": [
    "#replace of data to a new data\n",
    "file=\"content.txt\"\n",
    "def findreplace(file):\n",
    "    with open(file,'r')as f:\n",
    "        m=f.read()\n",
    "        s=m.replace(\"python\",\"programming\")\n",
    "        print(m,end=\" \")\n",
    "        print(s,end=\" \")\n",
    "findreplace(file)"
   ]
  },
  {
   "cell_type": "code",
   "execution_count": null,
   "metadata": {},
   "outputs": [],
   "source": []
  }
 ],
 "metadata": {
  "kernelspec": {
   "display_name": "Python 3",
   "language": "python",
   "name": "python3"
  },
  "language_info": {
   "codemirror_mode": {
    "name": "ipython",
    "version": 3
   },
   "file_extension": ".py",
   "mimetype": "text/x-python",
   "name": "python",
   "nbconvert_exporter": "python",
   "pygments_lexer": "ipython3",
   "version": "3.7.3"
  }
 },
 "nbformat": 4,
 "nbformat_minor": 2
}
