{
 "cells": [
  {
   "cell_type": "code",
   "execution_count": 13,
   "metadata": {},
   "outputs": [],
   "source": [
    "import random as m\n",
    "file=\"marks.txt\"\n",
    "def random(file,n):\n",
    "    with open(file,'w')as f:\n",
    "        for i in range(n):\n",
    "            f.write(str(m.randint(1,50))+'\\n')\n",
    "random(file,50)\n",
    "        \n",
    "        "
   ]
  },
  {
   "cell_type": "code",
   "execution_count": 14,
   "metadata": {},
   "outputs": [
    {
     "name": "stdout",
     "output_type": "stream",
     "text": [
      "0.0\n",
      "50\n"
     ]
    }
   ],
   "source": [
    "file=\"marks.txt\"\n",
    "def firstpercentage(file):\n",
    "    p_c=0\n",
    "    count=0\n",
    "    with open(file,'r')as f:\n",
    "        m=f.read()\n",
    "        l=m.split()\n",
    "        for i in l:\n",
    "            count+=1\n",
    "            if int(i)>=75:\n",
    "                p_c+=1\n",
    "    print((p_c/count)*100)\n",
    "    print(count)\n",
    "firstpercentage(file)"
   ]
  },
  {
   "cell_type": "code",
   "execution_count": 15,
   "metadata": {},
   "outputs": [
    {
     "name": "stdout",
     "output_type": "stream",
     "text": [
      "6.0\n",
      "50\n"
     ]
    }
   ],
   "source": [
    "file=\"marks.txt\"\n",
    "def secondpercentage(file):\n",
    "    s_c=0\n",
    "    count=0\n",
    "    with open(file,'r')as f:\n",
    "        m=f.read()\n",
    "        l=m.split()\n",
    "        for i in l:\n",
    "            count+=1\n",
    "            if int(i)>=50 and int(i)<=75:\n",
    "                s_c+=1\n",
    "    print((s_c/count)*100)\n",
    "    print(count)\n",
    "secondpercentage(file)"
   ]
  },
  {
   "cell_type": "code",
   "execution_count": 16,
   "metadata": {},
   "outputs": [
    {
     "name": "stdout",
     "output_type": "stream",
     "text": [
      "34.0\n",
      "50\n"
     ]
    }
   ],
   "source": [
    "file=\"marks.txt\"\n",
    "def thirdpercentage(file):\n",
    "    t_c=0\n",
    "    count=0\n",
    "    with open(file,'r')as f:\n",
    "        m=f.read()\n",
    "        l=m.split()\n",
    "        for i in l:\n",
    "            count+=1\n",
    "            if int(i)>=35 and int(i)<=50:\n",
    "                t_c+=1\n",
    "    print((t_c/count)*100)\n",
    "    print(count)\n",
    "thirdpercentage(file)"
   ]
  },
  {
   "cell_type": "code",
   "execution_count": null,
   "metadata": {},
   "outputs": [],
   "source": []
  }
 ],
 "metadata": {
  "kernelspec": {
   "display_name": "Python 3",
   "language": "python",
   "name": "python3"
  },
  "language_info": {
   "codemirror_mode": {
    "name": "ipython",
    "version": 3
   },
   "file_extension": ".py",
   "mimetype": "text/x-python",
   "name": "python",
   "nbconvert_exporter": "python",
   "pygments_lexer": "ipython3",
   "version": "3.7.3"
  }
 },
 "nbformat": 4,
 "nbformat_minor": 2
}
