{
 "cells": [
  {
   "cell_type": "code",
   "execution_count": 1,
   "metadata": {},
   "outputs": [],
   "source": [
    "## File modes\n",
    "#tell\n",
    "#seek\n",
    "#w+=write and read"
   ]
  },
  {
   "cell_type": "code",
   "execution_count": null,
   "metadata": {},
   "outputs": [],
   "source": [
    "filepath=\"file_operations.txt\"\n",
    "def filewrite(filepath,mode):\n",
    "    with open(filepath,'w')as f:\n",
    "        f.write(mode)\n",
    "filewrite(filepath,\"hiii\")"
   ]
  },
  {
   "cell_type": "code",
   "execution_count": 4,
   "metadata": {},
   "outputs": [],
   "source": [
    "#create a file_operations.txt\n",
    "def file(f):\n",
    "    f=open(\"file_operations.txt\",\"w\")\n",
    "    f.write(\"\\nhappy days\\n\")\n",
    "    f.write(\"\\nmstp program\\n\")\n",
    "    f.write(\"\\nlearning basics and python\\n\")\n",
    "    f.close()\n",
    "f=\"file_operations.txt\"\n",
    "file(f)\n"
   ]
  },
  {
   "cell_type": "code",
   "execution_count": 10,
   "metadata": {},
   "outputs": [
    {
     "name": "stdout",
     "output_type": "stream",
     "text": [
      "\n",
      "happy days\n",
      "\n",
      "ms\n",
      "15\n",
      "3\n"
     ]
    }
   ],
   "source": [
    "f=open(\"file_operations.txt\",'r')\n",
    "f1=f.read(15)\n",
    "print(f1)\n",
    "print(f.tell())\n",
    "f2=f.seek(3)\n",
    "print(f2)\n",
    "f.close()"
   ]
  },
  {
   "cell_type": "code",
   "execution_count": 12,
   "metadata": {},
   "outputs": [
    {
     "name": "stdout",
     "output_type": "stream",
     "text": [
      "\n",
      "happy days\n",
      "\n",
      "mstp program\n",
      "\n",
      "learning basics and python\n",
      "\n"
     ]
    },
    {
     "data": {
      "text/plain": [
       "54"
      ]
     },
     "execution_count": 12,
     "metadata": {},
     "output_type": "execute_result"
    }
   ],
   "source": [
    "m=open(\"file_operations.txt\",\"r\")\n",
    "print(m.read())\n",
    "m.tell()"
   ]
  },
  {
   "cell_type": "code",
   "execution_count": 14,
   "metadata": {},
   "outputs": [
    {
     "name": "stdout",
     "output_type": "stream",
     "text": [
      "\n",
      "happy days\n",
      "\n",
      "mstp program\n",
      "\n",
      "learning basics and python\n",
      "\n",
      "ppy days\n",
      "\n",
      "mstp program\n",
      "\n",
      "learning basics and python\n",
      "\n"
     ]
    }
   ],
   "source": [
    "m=open(\"file_operations.txt\",\"r\")\n",
    "print(m.read())\n",
    "m.seek(3)\n",
    "m.tell()\n",
    "print(m.read())"
   ]
  },
  {
   "cell_type": "code",
   "execution_count": 15,
   "metadata": {},
   "outputs": [
    {
     "name": "stdout",
     "output_type": "stream",
     "text": [
      "eautiful life\n"
     ]
    }
   ],
   "source": [
    "file=\"file_operations.txt\"\n",
    "def  writeread(file):\n",
    "    with open(file,'w+') as f:\n",
    "        f.write(\"beautiful life\")\n",
    "        f.seek(1)\n",
    "        f1=f.read()\n",
    "        print(f1)\n",
    "writeread(file)"
   ]
  },
  {
   "cell_type": "code",
   "execution_count": null,
   "metadata": {},
   "outputs": [],
   "source": [
    "n=int(input())\n",
    "def numberpalindrome(n):\n",
    "    s=0\n",
    "    n1=n\n",
    "    for i in range(n):\n",
    "        if(n!=0):\n",
    "            a=n%10\n",
    "            a=n//10\n",
    "            s=s*10+a\n",
    "    if(s==n1):\n",
    "            print(\"palindrome\")\n",
    "    else:\n",
    "            print(\"not palindrome\")\n",
    "numberpalindrome(n)        \n",
    "        \n",
    "    \n",
    "    \n",
    "    \n"
   ]
  },
  {
   "cell_type": "code",
   "execution_count": null,
   "metadata": {},
   "outputs": [],
   "source": []
  }
 ],
 "metadata": {
  "kernelspec": {
   "display_name": "Python 3",
   "language": "python",
   "name": "python3"
  },
  "language_info": {
   "codemirror_mode": {
    "name": "ipython",
    "version": 3
   },
   "file_extension": ".py",
   "mimetype": "text/x-python",
   "name": "python",
   "nbconvert_exporter": "python",
   "pygments_lexer": "ipython3",
   "version": "3.7.3"
  }
 },
 "nbformat": 4,
 "nbformat_minor": 2
}
