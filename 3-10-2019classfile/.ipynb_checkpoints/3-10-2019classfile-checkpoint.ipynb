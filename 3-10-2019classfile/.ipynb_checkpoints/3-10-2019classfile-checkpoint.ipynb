{
 "cells": [
  {
   "cell_type": "markdown",
   "metadata": {},
   "source": [
    "# File handling in Python"
   ]
  },
  {
   "cell_type": "markdown",
   "metadata": {},
   "source": [
    ">1. read---r\n",
    ">2. write---w\n",
    ">3.append--a\n",
    ">4. write&read--w+\n",
    ">5.read&write--r+\n",
    ">6.append&read--a+\n",
    ">7.x---Exclusive write"
   ]
  },
  {
   "cell_type": "code",
   "execution_count": 1,
   "metadata": {},
   "outputs": [],
   "source": [
    "#file opening\n",
    "#file=open(\"sample.txt\",\"mode\")"
   ]
  },
  {
   "cell_type": "code",
   "execution_count": 2,
   "metadata": {},
   "outputs": [],
   "source": [
    "# create a file and some content\n",
    "f=open(\"data.txt\",\"w\")\n",
    "f.write(\"welcome python\")\n",
    "f.write(\"\\nmstp level program by apssdc\\n\")\n",
    "f.close()"
   ]
  },
  {
   "cell_type": "code",
   "execution_count": 6,
   "metadata": {},
   "outputs": [
    {
     "name": "stdout",
     "output_type": "stream",
     "text": [
      "welcome python\n",
      "mstp level program by apssdc\n",
      "\n"
     ]
    }
   ],
   "source": [
    "#print the content of a file\n",
    "m=open(\"data.txt\",\"r\")\n",
    "m1=m.read()\n",
    "print(m1)\n",
    "m.close()"
   ]
  },
  {
   "cell_type": "code",
   "execution_count": 10,
   "metadata": {},
   "outputs": [
    {
     "name": "stdout",
     "output_type": "stream",
     "text": [
      "welcome python\n",
      "mstp level program by apssdc\n",
      "\n"
     ]
    }
   ],
   "source": [
    "#function to print data of a file\n",
    "def file(m):\n",
    "    m=open(\"data.txt\",\"r\")\n",
    "    m1=m.read()\n",
    "    print(m1)\n",
    "    m.close()\n",
    "m=\"data.txt\"\n",
    "file(m)"
   ]
  },
  {
   "cell_type": "code",
   "execution_count": 11,
   "metadata": {},
   "outputs": [],
   "source": [
    "#functions to write data to a file\n",
    "#data=\"mstp apssdc\"\n",
    "def file(m):\n",
    "    m=open(\"data.txt\",\"w\")\n",
    "    m.write(\"mstp apssdc\")\n",
    "    m.close()\n",
    "m=\"data.txt\"\n",
    "file(m)"
   ]
  },
  {
   "cell_type": "code",
   "execution_count": 12,
   "metadata": {},
   "outputs": [],
   "source": [
    "#function using append\n",
    "def fun(f):\n",
    "    f=open(\"data.txt\",\"a\")\n",
    "    f.write(\"\\nproblem solving\\n\")\n",
    "    f.close()\n",
    "f=\"data.txt\"\n",
    "fun(f)"
   ]
  },
  {
   "cell_type": "code",
   "execution_count": 17,
   "metadata": {},
   "outputs": [
    {
     "name": "stdout",
     "output_type": "stream",
     "text": [
      "mstp apssdcproblem solving\n",
      "problem solving\n",
      "\n"
     ]
    }
   ],
   "source": [
    "#function read\n",
    "def read_file(f):\n",
    "    f=open(\"data.txt\",\"r\")\n",
    "    x=f.read()\n",
    "    print(x)\n",
    "f=\"data.txt\"\n",
    "read_file(f)"
   ]
  },
  {
   "cell_type": "code",
   "execution_count": 18,
   "metadata": {},
   "outputs": [
    {
     "name": "stdout",
     "output_type": "stream",
     "text": [
      "mstp apssdcproblem solving\n",
      "\n"
     ]
    }
   ],
   "source": [
    "f=open(\"data.txt\",\"r\")\n",
    "x=f.readline()\n",
    "print(x)"
   ]
  },
  {
   "cell_type": "code",
   "execution_count": 19,
   "metadata": {},
   "outputs": [
    {
     "name": "stdout",
     "output_type": "stream",
     "text": [
      "['mstp apssdcproblem solving\\n', 'problem solving\\n']\n"
     ]
    }
   ],
   "source": [
    "f=open(\"data.txt\",\"r\")\n",
    "y=f.readlines()\n",
    "print(y)"
   ]
  },
  {
   "cell_type": "code",
   "execution_count": 24,
   "metadata": {},
   "outputs": [
    {
     "name": "stdout",
     "output_type": "stream",
     "text": [
      "mstp apssdcproblem solving\n",
      " problem solving\n",
      " "
     ]
    }
   ],
   "source": [
    "#acesssing all content line by line\n",
    "def content(f):\n",
    "    f=open(\"data.txt\",\"r\")\n",
    "    z=f.readlines()\n",
    "    for i in z:\n",
    "        print(i,end=\" \")\n",
    "f=\"data.txt\"\n",
    "content(f)"
   ]
  },
  {
   "cell_type": "code",
   "execution_count": 21,
   "metadata": {},
   "outputs": [
    {
     "ename": "IndentationError",
     "evalue": "unexpected indent (<ipython-input-21-4b0f914d5fa6>, line 11)",
     "output_type": "error",
     "traceback": [
      "\u001b[1;36m  File \u001b[1;32m\"<ipython-input-21-4b0f914d5fa6>\"\u001b[1;36m, line \u001b[1;32m11\u001b[0m\n\u001b[1;33m    print(x)\u001b[0m\n\u001b[1;37m    ^\u001b[0m\n\u001b[1;31mIndentationError\u001b[0m\u001b[1;31m:\u001b[0m unexpected indent\n"
     ]
    }
   ],
   "source": [
    "#Lines count\n",
    "#characters count\n",
    "#words count\n",
    "#file count\n",
    "def lines_count(file):\n",
    "    with open(\"data.txt\",\"r\")as x:\n",
    "        c=0\n",
    "        x=file.readlines()\n",
    "    for i in x:\n",
    "        c=c+i\n",
    "         print(x)\n",
    "file=\"data.txt\"\n",
    "lines_count(file)"
   ]
  },
  {
   "cell_type": "code",
   "execution_count": null,
   "metadata": {},
   "outputs": [],
   "source": []
  },
  {
   "cell_type": "code",
   "execution_count": null,
   "metadata": {},
   "outputs": [],
   "source": []
  }
 ],
 "metadata": {
  "kernelspec": {
   "display_name": "Python 3",
   "language": "python",
   "name": "python3"
  },
  "language_info": {
   "codemirror_mode": {
    "name": "ipython",
    "version": 3
   },
   "file_extension": ".py",
   "mimetype": "text/x-python",
   "name": "python",
   "nbconvert_exporter": "python",
   "pygments_lexer": "ipython3",
   "version": "3.7.3"
  }
 },
 "nbformat": 4,
 "nbformat_minor": 2
}
