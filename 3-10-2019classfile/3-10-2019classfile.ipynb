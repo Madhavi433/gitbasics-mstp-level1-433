{
 "cells": [
  {
   "cell_type": "markdown",
   "metadata": {},
   "source": [
    "# File handling in Python"
   ]
  },
  {
   "cell_type": "markdown",
   "metadata": {},
   "source": [
    ">1. read---r\n",
    ">2. write---w\n",
    ">3.append--a\n",
    ">4. write&read--w+\n",
    ">5.read&write--r+\n",
    ">6.append&read--a+\n",
    ">7.x---Exclusive write"
   ]
  },
  {
   "cell_type": "code",
   "execution_count": 1,
   "metadata": {},
   "outputs": [],
   "source": [
    "#file opening\n",
    "#file=open(\"sample.txt\",\"mode\")"
   ]
  },
  {
   "cell_type": "code",
   "execution_count": 2,
   "metadata": {},
   "outputs": [],
   "source": [
    "# create a file and some content\n",
    "f=open(\"data.txt\",\"w\")\n",
    "f.write(\"welcome python\")\n",
    "f.write(\"\\nmstp level program by apssdc\\n\")\n",
    "f.close()"
   ]
  },
  {
   "cell_type": "code",
   "execution_count": 6,
   "metadata": {},
   "outputs": [
    {
     "name": "stdout",
     "output_type": "stream",
     "text": [
      "welcome python\n",
      "mstp level program by apssdc\n",
      "\n"
     ]
    }
   ],
   "source": [
    "#print the content of a file\n",
    "m=open(\"data.txt\",\"r\")\n",
    "m1=m.read()\n",
    "print(m1)\n",
    "m.close()"
   ]
  },
  {
   "cell_type": "code",
   "execution_count": 10,
   "metadata": {},
   "outputs": [
    {
     "name": "stdout",
     "output_type": "stream",
     "text": [
      "welcome python\n",
      "mstp level program by apssdc\n",
      "\n"
     ]
    }
   ],
   "source": [
    "#function to print data of a file\n",
    "def file(m):\n",
    "    m=open(\"data.txt\",\"r\")\n",
    "    m1=m.read()\n",
    "    print(m1)\n",
    "    m.close()\n",
    "m=\"data.txt\"\n",
    "file(m)"
   ]
  },
  {
   "cell_type": "code",
   "execution_count": 11,
   "metadata": {},
   "outputs": [],
   "source": [
    "#functions to write data to a file\n",
    "#data=\"mstp apssdc\"\n",
    "def file(m):\n",
    "    m=open(\"data.txt\",\"w\")\n",
    "    m.write(\"mstp apssdc\")\n",
    "    m.close()\n",
    "m=\"data.txt\"\n",
    "file(m)"
   ]
  },
  {
   "cell_type": "code",
   "execution_count": 12,
   "metadata": {},
   "outputs": [],
   "source": [
    "#function using append\n",
    "def fun(f):\n",
    "    f=open(\"data.txt\",\"a\")\n",
    "    f.write(\"\\nproblem solving\\n\")\n",
    "    f.close()\n",
    "f=\"data.txt\"\n",
    "fun(f)"
   ]
  },
  {
   "cell_type": "code",
   "execution_count": 17,
   "metadata": {},
   "outputs": [
    {
     "name": "stdout",
     "output_type": "stream",
     "text": [
      "mstp apssdcproblem solving\n",
      "problem solving\n",
      "\n"
     ]
    }
   ],
   "source": [
    "#function read\n",
    "def read_file(f):\n",
    "    f=open(\"data.txt\",\"r\")\n",
    "    x=f.read()\n",
    "    print(x)\n",
    "f=\"data.txt\"\n",
    "read_file(f)"
   ]
  },
  {
   "cell_type": "code",
   "execution_count": 18,
   "metadata": {},
   "outputs": [
    {
     "name": "stdout",
     "output_type": "stream",
     "text": [
      "mstp apssdcproblem solving\n",
      "\n"
     ]
    }
   ],
   "source": [
    "f=open(\"data.txt\",\"r\")\n",
    "x=f.readline()\n",
    "print(x)"
   ]
  },
  {
   "cell_type": "code",
   "execution_count": 30,
   "metadata": {},
   "outputs": [
    {
     "name": "stdout",
     "output_type": "stream",
     "text": [
      "['mstp apssdc\\n', 'problem solving\\n']\n"
     ]
    }
   ],
   "source": [
    "f=open(\"data.txt\",\"r\")\n",
    "y=f.readlines()\n",
    "print(y)"
   ]
  },
  {
   "cell_type": "code",
   "execution_count": 24,
   "metadata": {},
   "outputs": [
    {
     "name": "stdout",
     "output_type": "stream",
     "text": [
      "mstp apssdcproblem solving\n",
      " problem solving\n",
      " "
     ]
    }
   ],
   "source": [
    "#acesssing all content line by line\n",
    "def content(f):\n",
    "    f=open(\"data.txt\",\"r\")\n",
    "    z=f.readlines()\n",
    "    for i in z:\n",
    "        print(i,end=\" \")\n",
    "f=\"data.txt\"\n",
    "content(f)"
   ]
  },
  {
   "cell_type": "code",
   "execution_count": 25,
   "metadata": {},
   "outputs": [
    {
     "name": "stdout",
     "output_type": "stream",
     "text": [
      "2\n"
     ]
    }
   ],
   "source": [
    "#Lines count\n",
    "#characters count\n",
    "#words count\n",
    "#file length\n",
    "def lines_count(file):\n",
    "    with open(\"data.txt\",\"r\")as file:\n",
    "        c=0\n",
    "        x=file.readlines()\n",
    "    for i in range(len(x)):\n",
    "        c=c+1\n",
    "    print(c)\n",
    "file=\"data.txt\"\n",
    "lines_count(file)"
   ]
  },
  {
   "cell_type": "code",
   "execution_count": 26,
   "metadata": {},
   "outputs": [
    {
     "name": "stdout",
     "output_type": "stream",
     "text": [
      "28\n"
     ]
    }
   ],
   "source": [
    "#characters count\n",
    "def char_count(f):\n",
    "    with open (\"data.txt\",\"r\")as f:\n",
    "        c=0\n",
    "        x=f.read()\n",
    "        for i in range(len(x)):\n",
    "            c=c+1\n",
    "        print(c)\n",
    "f=\"data,txt\"\n",
    "char_count(f)"
   ]
  },
  {
   "cell_type": "code",
   "execution_count": 27,
   "metadata": {},
   "outputs": [
    {
     "name": "stdout",
     "output_type": "stream",
     "text": [
      "4\n"
     ]
    }
   ],
   "source": [
    "# words count\n",
    "def words_count(w):\n",
    "    with open(\"data.txt\",\"r\") as w:\n",
    "        c=0\n",
    "        x=w.read()\n",
    "        y=x.split()\n",
    "        print(len(y))\n",
    "w=\"data.txt\"\n",
    "words_count(w)"
   ]
  },
  {
   "cell_type": "code",
   "execution_count": null,
   "metadata": {},
   "outputs": [],
   "source": [
    "\n",
    "        \n",
    "        "
   ]
  }
 ],
 "metadata": {
  "kernelspec": {
   "display_name": "Python 3",
   "language": "python",
   "name": "python3"
  },
  "language_info": {
   "codemirror_mode": {
    "name": "ipython",
    "version": 3
   },
   "file_extension": ".py",
   "mimetype": "text/x-python",
   "name": "python",
   "nbconvert_exporter": "python",
   "pygments_lexer": "ipython3",
   "version": "3.7.3"
  }
 },
 "nbformat": 4,
 "nbformat_minor": 2
}
