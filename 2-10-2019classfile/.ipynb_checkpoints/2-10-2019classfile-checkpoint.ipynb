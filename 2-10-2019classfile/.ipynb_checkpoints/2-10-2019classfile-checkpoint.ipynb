{
 "cells": [
  {
   "cell_type": "markdown",
   "metadata": {},
   "source": [
    "# Regular expressions"
   ]
  },
  {
   "cell_type": "markdown",
   "metadata": {},
   "source": [
    "1.abc--->that matches the exact character sequence in the string.\n",
    "2.^abc--->begining of the string.\n",
    "3.$--->end of the string.\n",
    "4.^a[a-z]s$--->start with a ,end with s\n",
    "5.a|b---> either a or b.\n",
    "6.^abc|abc$-->the string abc at the begining or end of the string.\n",
    "7.ab{2,4}c--->an a followed by two,three or four b's followed  by a c.\n",
    "8.ab{2,}c--->it is used to maximum number of characters.\n",
    "9.ab*c-->an a followed by any number(zero or more)b followes the c.\n",
    "10.ab+c--->an a followed by one or more b's followed by a c.\n",
    "11.ab?c\n",
    "a.c"
   ]
  },
  {
   "cell_type": "markdown",
   "metadata": {},
   "source": [
    " #emailvalidation:^([0-9]|[a-z]|[A-Z])([0-9]|[a-z]|[A-Z]|[_]){6,15}[0-9]{1,3}@[a-z]{2,9}[.][a-z]{2,4}$"
   ]
  },
  {
   "cell_type": "markdown",
   "metadata": {},
   "source": [
    "# Phone number Validation"
   ]
  },
  {
   "cell_type": "code",
   "execution_count": 2,
   "metadata": {},
   "outputs": [
    {
     "data": {
      "text/plain": [
       "1"
      ]
     },
     "execution_count": 2,
     "metadata": {},
     "output_type": "execute_result"
    }
   ],
   "source": [
    "#^[0][6-9][0-9]{9}$--->#10 digit number starting with zero\n",
    "#^+91[6-9][0-9]{9}$---># 10 digit number starting with +91\n",
    "#^[6-9][0-9]{9}$\n",
    "import re\n",
    "def phoneno(n):\n",
    "    pattern='^[+][9][1][6-9][0-9]{9}$|^[6-9][0-9]{9}$|^[0][6-9][0-9]{9}$'\n",
    "    if re.match(pattern,str(n)):\n",
    "        return 1\n",
    "    else:\n",
    "        return 0\n",
    "phoneno(\"8919621677\")\n",
    "phoneno(\"+918919621677\")\n",
    "phoneno(\"08919621677\")"
   ]
  },
  {
   "cell_type": "markdown",
   "metadata": {},
   "source": [
    "# Email validation"
   ]
  },
  {
   "cell_type": "code",
   "execution_count": 3,
   "metadata": {},
   "outputs": [
    {
     "data": {
      "text/plain": [
       "1"
      ]
     },
     "execution_count": 3,
     "metadata": {},
     "output_type": "execute_result"
    }
   ],
   "source": [
    "import re\n",
    "def email(n):\n",
    "    pattern='^([0-9]|[a-z]|[A-Z])([0-9]|[a-z]|[A-Z]|[_]){6,15}[0-9]{1,3}@[a-z]{2,9}[.][a-z]{2,4}$'\n",
    "    if re.match(pattern,str(n)):\n",
    "        return 1\n",
    "    else:\n",
    "        return 0\n",
    "email(\"Madhu_reddy17@gmail.info\")"
   ]
  },
  {
   "cell_type": "code",
   "execution_count": 5,
   "metadata": {},
   "outputs": [
    {
     "name": "stdout",
     "output_type": "stream",
     "text": [
      "phone num verified successfully\n"
     ]
    },
    {
     "data": {
      "text/plain": [
       "{'madhu': ['8919621677', 'madhu@gmail.com'],\n",
       " 'lakki': ['9052209805', 'lakshmi@gmail.com']}"
      ]
     },
     "execution_count": 5,
     "metadata": {},
     "output_type": "execute_result"
    }
   ],
   "source": [
    "contact={\"madhu\":[\"8919621677\",\"madhu@gmail.com\"]}\n",
    "def addcontact(name,l):\n",
    "    if name not in contact:\n",
    "        no=l[0]\n",
    "        id=l[1]\n",
    "        if phoneno(no)==1:\n",
    "            print(\"phone num verified successfully\")\n",
    "            if email(id)==1:\n",
    "                print(\"email verified successfully\")\n",
    "            contact[name]=l\n",
    "        else:\n",
    "            print(\"enter  valid no and email id\")\n",
    "    else:\n",
    "        print(\"contact already exists\")\n",
    "addcontact(\"lakki\",[\"9052209805\",\"lakshmi@gmail.com\"])\n",
    "contact      \n",
    "        \n",
    "        \n"
   ]
  },
  {
   "cell_type": "code",
   "execution_count": null,
   "metadata": {},
   "outputs": [],
   "source": []
  },
  {
   "cell_type": "code",
   "execution_count": null,
   "metadata": {},
   "outputs": [],
   "source": []
  }
 ],
 "metadata": {
  "kernelspec": {
   "display_name": "Python 3",
   "language": "python",
   "name": "python3"
  },
  "language_info": {
   "codemirror_mode": {
    "name": "ipython",
    "version": 3
   },
   "file_extension": ".py",
   "mimetype": "text/x-python",
   "name": "python",
   "nbconvert_exporter": "python",
   "pygments_lexer": "ipython3",
   "version": "3.7.3"
  }
 },
 "nbformat": 4,
 "nbformat_minor": 2
}
