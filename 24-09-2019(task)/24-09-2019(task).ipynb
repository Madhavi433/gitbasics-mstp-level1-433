{
 "cells": [
  {
   "cell_type": "markdown",
   "metadata": {},
   "source": [
    "1.Check if the number exist in a given range (inputs: number(n), range(lower number and upper number) "
   ]
  },
  {
   "cell_type": "code",
   "execution_count": 3,
   "metadata": {},
   "outputs": [
    {
     "name": "stdout",
     "output_type": "stream",
     "text": [
      "5\n",
      "9\n",
      "8\n",
      "true\n"
     ]
    }
   ],
   "source": [
    "def range(lb,ub,n):\n",
    "    if (lb<n<ub):\n",
    "        print(\"true\")\n",
    "    else:\n",
    "        print(\"false\")\n",
    "lb=int(input())\n",
    "ub=int(input())\n",
    "n=int(input())\n",
    "range(lb,ub,n)\n",
    "    \n",
    "        \n",
    "    \n",
    "         "
   ]
  },
  {
   "cell_type": "markdown",
   "metadata": {},
   "source": [
    "2.Check the number of digits in a given number"
   ]
  },
  {
   "cell_type": "code",
   "execution_count": 9,
   "metadata": {},
   "outputs": [
    {
     "name": "stdout",
     "output_type": "stream",
     "text": [
      "12345\n",
      "5\n"
     ]
    }
   ],
   "source": [
    "def number(n):\n",
    "    n=len(a)\n",
    "    print(n)\n",
    "a=(input())\n",
    "number(a)"
   ]
  },
  {
   "cell_type": "markdown",
   "metadata": {},
   "source": [
    "3.Check if the given number is a factor of 1000 "
   ]
  },
  {
   "cell_type": "code",
   "execution_count": 10,
   "metadata": {},
   "outputs": [
    {
     "name": "stdout",
     "output_type": "stream",
     "text": [
      "500\n",
      "false\n"
     ]
    }
   ],
   "source": [
    "def factor(n):\n",
    "    if((n%1000==0)):\n",
    "        print(\"true\")\n",
    "    else:\n",
    "        print(\"false\")\n",
    "n=int(input())\n",
    "factor(n)"
   ]
  },
  {
   "cell_type": "markdown",
   "metadata": {},
   "source": [
    "4.Calculate the square root of a given number "
   ]
  },
  {
   "cell_type": "code",
   "execution_count": 6,
   "metadata": {},
   "outputs": [
    {
     "name": "stdout",
     "output_type": "stream",
     "text": [
      "59\n",
      "7.681145747868608\n"
     ]
    }
   ],
   "source": [
    "def squareroot(m):\n",
    "    print(m**(1/2))\n",
    "m=int(input())\n",
    "squareroot(m)"
   ]
  },
  {
   "cell_type": "markdown",
   "metadata": {},
   "source": [
    "5.python program to take values of length and breadth(width) of a rectangle from user and check if it is square or not. . "
   ]
  },
  {
   "cell_type": "code",
   "execution_count": 3,
   "metadata": {},
   "outputs": [
    {
     "name": "stdout",
     "output_type": "stream",
     "text": [
      "4\n",
      "4\n",
      "square\n"
     ]
    }
   ],
   "source": [
    "def square(l,b):\n",
    "    if(l==b):\n",
    "         print(\"square\")\n",
    "    else:\n",
    "         print(\"rectangle\")\n",
    "l=int(input())\n",
    "b=int(input())\n",
    "square(l,b)\n"
   ]
  },
  {
   "cell_type": "markdown",
   "metadata": {},
   "source": [
    "6.A school has following rules for grading system:\n",
    ">1.Below 25 - F\n",
    ">2.25 to 45 - E\n",
    ">3.45 to 50 - D\n",
    ">4.50 to 60 - C\n",
    ">5.60 to 80 - B\n",
    ">6.Above 80 - A\n",
    "Ask user to enter marks and print the corresponding grade. "
   ]
  },
  {
   "cell_type": "code",
   "execution_count": 15,
   "metadata": {},
   "outputs": [
    {
     "name": "stdout",
     "output_type": "stream",
     "text": [
      "89\n",
      "A\n"
     ]
    }
   ],
   "source": [
    "def marks(m):\n",
    "    if m<25:\n",
    "        print(\"F\")\n",
    "    elif m>=25 and m<45:\n",
    "        print(\"E\")\n",
    "    elif m>=45 and m<50:\n",
    "        print(\"D\")\n",
    "    elif m>=50 and m<60:\n",
    "        print(\"c\")\n",
    "    elif m>=60 and m<80:\n",
    "        print(\"B\")\n",
    "    else:\n",
    "        print(\"A\")\n",
    "m=int(input())\n",
    "marks(m)"
   ]
  },
  {
   "cell_type": "markdown",
   "metadata": {},
   "source": [
    "7.Take input of age of 3 people by user and determine oldest and youngest among them. "
   ]
  },
  {
   "cell_type": "code",
   "execution_count": 16,
   "metadata": {},
   "outputs": [
    {
     "name": "stdout",
     "output_type": "stream",
     "text": [
      "60\n",
      "20\n",
      "40\n",
      "oldest 60\n",
      "young 20\n"
     ]
    }
   ],
   "source": [
    "\n",
    "    if(a>b and a>c):\n",
    "        oldest=a\n",
    "    elif(b>a and b>c):\n",
    "         oldest=b\n",
    "    else:\n",
    "        oldest=c\n",
    "    \n",
    "    if(a<b and a<c):\n",
    "        young=a\n",
    "    elif(b<a and b<c):\n",
    "        young=b\n",
    "    else:\n",
    "        young=c\n",
    "a=int(input())\n",
    "b=int(input())\n",
    "c=int(input())\n",
    "print(\"oldest\",oldest)\n",
    "print(\"young\",young )\n"
   ]
  },
  {
   "cell_type": "markdown",
   "metadata": {},
   "source": [
    "8..A student will not be allowed to sit in exam if his/her attendance is less than 75%."
   ]
  },
  {
   "cell_type": "markdown",
   "metadata": {},
   "source": [
    "1.Take following input from user Number of classes held,Number of classes attended."
   ]
  },
  {
   "cell_type": "markdown",
   "metadata": {},
   "source": [
    "2.And print percentage of class attended Is student is allowed to sit in exam or not. \n",
    "\n"
   ]
  },
  {
   "cell_type": "code",
   "execution_count": 1,
   "metadata": {},
   "outputs": [
    {
     "name": "stdout",
     "output_type": "stream",
     "text": [
      "210\n",
      "190\n",
      "90.47619047619048\n",
      "allowed to exam\n"
     ]
    }
   ],
   "source": [
    "def exam(a,b):\n",
    "    n=(b/a)*100\n",
    "    print(n)\n",
    "    if(n>=75):\n",
    "        print(\"allowed to exam\")\n",
    "    else:\n",
    "        print(\"not allowed to exam\")\n",
    "a=int(input())\n",
    "b=int(input())\n",
    "exam(a,b)"
   ]
  },
  {
   "cell_type": "code",
   "execution_count": null,
   "metadata": {},
   "outputs": [],
   "source": []
  }
 ],
 "metadata": {
  "kernelspec": {
   "display_name": "Python 3",
   "language": "python",
   "name": "python3"
  },
  "language_info": {
   "codemirror_mode": {
    "name": "ipython",
    "version": 3
   },
   "file_extension": ".py",
   "mimetype": "text/x-python",
   "name": "python",
   "nbconvert_exporter": "python",
   "pygments_lexer": "ipython3",
   "version": "3.7.3"
  }
 },
 "nbformat": 4,
 "nbformat_minor": 2
}
