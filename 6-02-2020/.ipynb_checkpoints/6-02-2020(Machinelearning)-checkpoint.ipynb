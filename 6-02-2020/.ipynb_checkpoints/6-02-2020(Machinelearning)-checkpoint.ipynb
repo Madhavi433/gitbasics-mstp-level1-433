{
 "cells": [
  {
   "cell_type": "markdown",
   "metadata": {},
   "source": [
    "#Linear regression\n",
    "y=f(x)\n",
    "y=mx+c\n",
    "y=b1x+bo"
   ]
  },
  {
   "cell_type": "markdown",
   "metadata": {},
   "source": [
    "#Root mean square error:\n",
    "RMSE=(x-xmean)(y-ymean)/(x-xmean)^2"
   ]
  },
  {
   "cell_type": "code",
   "execution_count": 2,
   "metadata": {},
   "outputs": [],
   "source": [
    "#R2score=(ypredict-ymean)^2/(y-ymean)^2 ##predict--->finding"
   ]
  },
  {
   "cell_type": "markdown",
   "metadata": {},
   "source": [
    "#sklearn  #reg.coef\n",
    "          #reg.intercept"
   ]
  },
  {
   "cell_type": "code",
   "execution_count": 11,
   "metadata": {},
   "outputs": [],
   "source": [
    "import pandas as pd\n",
    "import numpy as np\n",
    "import matplotlib.pyplot as plt"
   ]
  },
  {
   "cell_type": "markdown",
   "metadata": {},
   "source": [
    "# Reading the Data"
   ]
  },
  {
   "cell_type": "code",
   "execution_count": 12,
   "metadata": {},
   "outputs": [
    {
     "data": {
      "text/html": [
       "<div>\n",
       "<style scoped>\n",
       "    .dataframe tbody tr th:only-of-type {\n",
       "        vertical-align: middle;\n",
       "    }\n",
       "\n",
       "    .dataframe tbody tr th {\n",
       "        vertical-align: top;\n",
       "    }\n",
       "\n",
       "    .dataframe thead th {\n",
       "        text-align: right;\n",
       "    }\n",
       "</style>\n",
       "<table border=\"1\" class=\"dataframe\">\n",
       "  <thead>\n",
       "    <tr style=\"text-align: right;\">\n",
       "      <th></th>\n",
       "      <th>Unnamed: 0</th>\n",
       "      <th>TV</th>\n",
       "      <th>radio</th>\n",
       "      <th>newspaper</th>\n",
       "      <th>sales</th>\n",
       "    </tr>\n",
       "  </thead>\n",
       "  <tbody>\n",
       "    <tr>\n",
       "      <th>195</th>\n",
       "      <td>196</td>\n",
       "      <td>38.2</td>\n",
       "      <td>3.7</td>\n",
       "      <td>13.8</td>\n",
       "      <td>7.6</td>\n",
       "    </tr>\n",
       "    <tr>\n",
       "      <th>196</th>\n",
       "      <td>197</td>\n",
       "      <td>94.2</td>\n",
       "      <td>4.9</td>\n",
       "      <td>8.1</td>\n",
       "      <td>9.7</td>\n",
       "    </tr>\n",
       "    <tr>\n",
       "      <th>197</th>\n",
       "      <td>198</td>\n",
       "      <td>177.0</td>\n",
       "      <td>9.3</td>\n",
       "      <td>6.4</td>\n",
       "      <td>12.8</td>\n",
       "    </tr>\n",
       "    <tr>\n",
       "      <th>198</th>\n",
       "      <td>199</td>\n",
       "      <td>283.6</td>\n",
       "      <td>42.0</td>\n",
       "      <td>66.2</td>\n",
       "      <td>25.5</td>\n",
       "    </tr>\n",
       "    <tr>\n",
       "      <th>199</th>\n",
       "      <td>200</td>\n",
       "      <td>232.1</td>\n",
       "      <td>8.6</td>\n",
       "      <td>8.7</td>\n",
       "      <td>13.4</td>\n",
       "    </tr>\n",
       "  </tbody>\n",
       "</table>\n",
       "</div>"
      ],
      "text/plain": [
       "     Unnamed: 0     TV  radio  newspaper  sales\n",
       "195         196   38.2    3.7       13.8    7.6\n",
       "196         197   94.2    4.9        8.1    9.7\n",
       "197         198  177.0    9.3        6.4   12.8\n",
       "198         199  283.6   42.0       66.2   25.5\n",
       "199         200  232.1    8.6        8.7   13.4"
      ]
     },
     "execution_count": 12,
     "metadata": {},
     "output_type": "execute_result"
    }
   ],
   "source": [
    "data=pd.read_csv(\"Advertising.csv\")\n",
    "data.tail()"
   ]
  },
  {
   "cell_type": "code",
   "execution_count": 13,
   "metadata": {},
   "outputs": [],
   "source": [
    "data.drop(\"Unnamed: 0\",axis=1,inplace=True)"
   ]
  },
  {
   "cell_type": "code",
   "execution_count": 14,
   "metadata": {},
   "outputs": [
    {
     "data": {
      "text/html": [
       "<div>\n",
       "<style scoped>\n",
       "    .dataframe tbody tr th:only-of-type {\n",
       "        vertical-align: middle;\n",
       "    }\n",
       "\n",
       "    .dataframe tbody tr th {\n",
       "        vertical-align: top;\n",
       "    }\n",
       "\n",
       "    .dataframe thead th {\n",
       "        text-align: right;\n",
       "    }\n",
       "</style>\n",
       "<table border=\"1\" class=\"dataframe\">\n",
       "  <thead>\n",
       "    <tr style=\"text-align: right;\">\n",
       "      <th></th>\n",
       "      <th>TV</th>\n",
       "      <th>radio</th>\n",
       "      <th>newspaper</th>\n",
       "      <th>sales</th>\n",
       "    </tr>\n",
       "  </thead>\n",
       "  <tbody>\n",
       "    <tr>\n",
       "      <th>195</th>\n",
       "      <td>38.2</td>\n",
       "      <td>3.7</td>\n",
       "      <td>13.8</td>\n",
       "      <td>7.6</td>\n",
       "    </tr>\n",
       "    <tr>\n",
       "      <th>196</th>\n",
       "      <td>94.2</td>\n",
       "      <td>4.9</td>\n",
       "      <td>8.1</td>\n",
       "      <td>9.7</td>\n",
       "    </tr>\n",
       "    <tr>\n",
       "      <th>197</th>\n",
       "      <td>177.0</td>\n",
       "      <td>9.3</td>\n",
       "      <td>6.4</td>\n",
       "      <td>12.8</td>\n",
       "    </tr>\n",
       "    <tr>\n",
       "      <th>198</th>\n",
       "      <td>283.6</td>\n",
       "      <td>42.0</td>\n",
       "      <td>66.2</td>\n",
       "      <td>25.5</td>\n",
       "    </tr>\n",
       "    <tr>\n",
       "      <th>199</th>\n",
       "      <td>232.1</td>\n",
       "      <td>8.6</td>\n",
       "      <td>8.7</td>\n",
       "      <td>13.4</td>\n",
       "    </tr>\n",
       "  </tbody>\n",
       "</table>\n",
       "</div>"
      ],
      "text/plain": [
       "        TV  radio  newspaper  sales\n",
       "195   38.2    3.7       13.8    7.6\n",
       "196   94.2    4.9        8.1    9.7\n",
       "197  177.0    9.3        6.4   12.8\n",
       "198  283.6   42.0       66.2   25.5\n",
       "199  232.1    8.6        8.7   13.4"
      ]
     },
     "execution_count": 14,
     "metadata": {},
     "output_type": "execute_result"
    }
   ],
   "source": [
    "data.tail()"
   ]
  },
  {
   "cell_type": "code",
   "execution_count": 16,
   "metadata": {},
   "outputs": [
    {
     "data": {
      "text/plain": [
       "0      230.1\n",
       "1       44.5\n",
       "2       17.2\n",
       "3      151.5\n",
       "4      180.8\n",
       "5        8.7\n",
       "6       57.5\n",
       "7      120.2\n",
       "8        8.6\n",
       "9      199.8\n",
       "10      66.1\n",
       "11     214.7\n",
       "12      23.8\n",
       "13      97.5\n",
       "14     204.1\n",
       "15     195.4\n",
       "16      67.8\n",
       "17     281.4\n",
       "18      69.2\n",
       "19     147.3\n",
       "20     218.4\n",
       "21     237.4\n",
       "22      13.2\n",
       "23     228.3\n",
       "24      62.3\n",
       "25     262.9\n",
       "26     142.9\n",
       "27     240.1\n",
       "28     248.8\n",
       "29      70.6\n",
       "       ...  \n",
       "170     50.0\n",
       "171    164.5\n",
       "172     19.6\n",
       "173    168.4\n",
       "174    222.4\n",
       "175    276.9\n",
       "176    248.4\n",
       "177    170.2\n",
       "178    276.7\n",
       "179    165.6\n",
       "180    156.6\n",
       "181    218.5\n",
       "182     56.2\n",
       "183    287.6\n",
       "184    253.8\n",
       "185    205.0\n",
       "186    139.5\n",
       "187    191.1\n",
       "188    286.0\n",
       "189     18.7\n",
       "190     39.5\n",
       "191     75.5\n",
       "192     17.2\n",
       "193    166.8\n",
       "194    149.7\n",
       "195     38.2\n",
       "196     94.2\n",
       "197    177.0\n",
       "198    283.6\n",
       "199    232.1\n",
       "Name: TV, Length: 200, dtype: float64"
      ]
     },
     "execution_count": 16,
     "metadata": {},
     "output_type": "execute_result"
    }
   ],
   "source": [
    "x=data[\"TV\"]\n",
    "x"
   ]
  },
  {
   "cell_type": "code",
   "execution_count": 17,
   "metadata": {},
   "outputs": [
    {
     "data": {
      "text/plain": [
       "array([230.1,  44.5,  17.2, 151.5, 180.8,   8.7,  57.5, 120.2,   8.6,\n",
       "       199.8,  66.1, 214.7,  23.8,  97.5, 204.1, 195.4,  67.8, 281.4,\n",
       "        69.2, 147.3, 218.4, 237.4,  13.2, 228.3,  62.3, 262.9, 142.9,\n",
       "       240.1, 248.8,  70.6, 292.9, 112.9,  97.2, 265.6,  95.7, 290.7,\n",
       "       266.9,  74.7,  43.1, 228. , 202.5, 177. , 293.6, 206.9,  25.1,\n",
       "       175.1,  89.7, 239.9, 227.2,  66.9, 199.8, 100.4, 216.4, 182.6,\n",
       "       262.7, 198.9,   7.3, 136.2, 210.8, 210.7,  53.5, 261.3, 239.3,\n",
       "       102.7, 131.1,  69. ,  31.5, 139.3, 237.4, 216.8, 199.1, 109.8,\n",
       "        26.8, 129.4, 213.4,  16.9,  27.5, 120.5,   5.4, 116. ,  76.4,\n",
       "       239.8,  75.3,  68.4, 213.5, 193.2,  76.3, 110.7,  88.3, 109.8,\n",
       "       134.3,  28.6, 217.7, 250.9, 107.4, 163.3, 197.6, 184.9, 289.7,\n",
       "       135.2, 222.4, 296.4, 280.2, 187.9, 238.2, 137.9,  25. ,  90.4,\n",
       "        13.1, 255.4, 225.8, 241.7, 175.7, 209.6,  78.2,  75.1, 139.2,\n",
       "        76.4, 125.7,  19.4, 141.3,  18.8, 224. , 123.1, 229.5,  87.2,\n",
       "         7.8,  80.2, 220.3,  59.6,   0.7, 265.2,   8.4, 219.8,  36.9,\n",
       "        48.3,  25.6, 273.7,  43. , 184.9,  73.4, 193.7, 220.5, 104.6,\n",
       "        96.2, 140.3, 240.1, 243.2,  38. ,  44.7, 280.7, 121. , 197.6,\n",
       "       171.3, 187.8,   4.1,  93.9, 149.8,  11.7, 131.7, 172.5,  85.7,\n",
       "       188.4, 163.5, 117.2, 234.5,  17.9, 206.8, 215.4, 284.3,  50. ,\n",
       "       164.5,  19.6, 168.4, 222.4, 276.9, 248.4, 170.2, 276.7, 165.6,\n",
       "       156.6, 218.5,  56.2, 287.6, 253.8, 205. , 139.5, 191.1, 286. ,\n",
       "        18.7,  39.5,  75.5,  17.2, 166.8, 149.7,  38.2,  94.2, 177. ,\n",
       "       283.6, 232.1])"
      ]
     },
     "execution_count": 17,
     "metadata": {},
     "output_type": "execute_result"
    }
   ],
   "source": [
    "x=data[\"TV\"].values\n",
    "x"
   ]
  },
  {
   "cell_type": "code",
   "execution_count": 18,
   "metadata": {},
   "outputs": [
    {
     "name": "stdout",
     "output_type": "stream",
     "text": [
      "(200,)\n"
     ]
    }
   ],
   "source": [
    "y=data[\"sales\"].values\n",
    "print(y.shape)"
   ]
  },
  {
   "cell_type": "markdown",
   "metadata": {},
   "source": [
    "# Mean calculation"
   ]
  },
  {
   "cell_type": "code",
   "execution_count": 19,
   "metadata": {},
   "outputs": [
    {
     "data": {
      "text/plain": [
       "147.0425"
      ]
     },
     "execution_count": 19,
     "metadata": {},
     "output_type": "execute_result"
    }
   ],
   "source": [
    "x_mean=x.mean()\n",
    "x_mean"
   ]
  },
  {
   "cell_type": "code",
   "execution_count": 21,
   "metadata": {},
   "outputs": [
    {
     "data": {
      "text/plain": [
       "14.0225"
      ]
     },
     "execution_count": 21,
     "metadata": {},
     "output_type": "execute_result"
    }
   ],
   "source": [
    "y_mean=y.mean()\n",
    "y_mean"
   ]
  },
  {
   "cell_type": "markdown",
   "metadata": {},
   "source": [
    "# Calculating Error"
   ]
  },
  {
   "cell_type": "code",
   "execution_count": 22,
   "metadata": {},
   "outputs": [
    {
     "name": "stdout",
     "output_type": "stream",
     "text": [
      "slobe: 0.04753664043301969\n",
      "intercept: 6.989906450872297\n"
     ]
    }
   ],
   "source": [
    "n=len(x)\n",
    "numerator=0\n",
    "denominator=0\n",
    "for i in range(n):\n",
    "    numerator+=(x[i]-x_mean)*(y[i]-y_mean)\n",
    "    denominator+=(x[i]-x_mean)**2\n",
    "b1=numerator/denominator\n",
    "b0=y_mean=(b1*x_mean)\n",
    "print(\"slobe:\",b1)\n",
    "print(\"intercept:\",b0)"
   ]
  },
  {
   "cell_type": "code",
   "execution_count": 23,
   "metadata": {},
   "outputs": [
    {
     "name": "stdout",
     "output_type": "stream",
     "text": [
      "Linear Equation: y=0.047537x+6.99\n"
     ]
    }
   ],
   "source": [
    "# y=mx+c\n",
    "print(\"Linear Equation: y={:.5}x+{:.4}\".format(b1,b0))"
   ]
  },
  {
   "cell_type": "code",
   "execution_count": 24,
   "metadata": {},
   "outputs": [
    {
     "data": {
      "text/plain": [
       "array([17.92808741,  9.10528695,  7.80753667, 14.19170748, 15.58453104,\n",
       "        7.40347522,  9.72326328, 12.70381063,  7.39872156, 16.48772721,\n",
       "       10.13207838, 17.19602315,  8.12127849, 11.62472889, 16.69213476,\n",
       "       16.27856599, 10.21289067, 20.36671707, 10.27944197, 13.99205359,\n",
       "       17.37190872, 18.27510489,  7.6173901 , 17.84252146,  9.95143915,\n",
       "       19.48728922, 13.78289237, 18.40345382, 18.81702259, 10.34599327,\n",
       "       20.91338843, 12.35679316, 11.6104679 , 19.61563815, 11.53916294,\n",
       "       20.80880782, 19.67743578, 10.54089349,  9.03873565, 17.82826047,\n",
       "       16.61607614, 15.40389181, 20.94666408, 16.82523736,  8.18307613,\n",
       "       15.31357219, 11.2539431 , 18.39394649, 17.79023116, 10.1701077 ,\n",
       "       16.48772721, 11.76258515, 17.27683544, 15.67009699, 19.47778189,\n",
       "       16.44494423,  7.33692393, 13.46439688, 17.01063025, 17.00587659,\n",
       "        9.53311671, 19.4112306 , 18.36542451, 11.87191942, 13.22196001,\n",
       "       10.26993464,  8.48731062, 13.61176046, 18.27510489, 17.2958501 ,\n",
       "       16.45445156, 12.20942957,  8.26388841, 13.14114772, 17.13422552,\n",
       "        7.79327567,  8.29716406, 12.71807162,  7.24660431, 12.50415674,\n",
       "       10.62170578, 18.38919283, 10.56941548, 10.24141266, 17.13897918,\n",
       "       16.17398538, 10.61695212, 12.25221255, 11.1873918 , 12.20942957,\n",
       "       13.37407726,  8.34945437, 17.33863307, 18.91684954, 12.09534163,\n",
       "       14.75263983, 16.3831466 , 15.77943127, 20.76127118, 13.41686024,\n",
       "       17.56205528, 21.07976668, 20.3096731 , 15.92204119, 18.3131342 ,\n",
       "       13.54520917,  8.17832246, 11.28721875,  7.61263644, 19.13076442,\n",
       "       17.72367986, 18.47951244, 15.34209417, 16.95358629, 10.70727173,\n",
       "       10.55990815, 13.6070068 , 10.62170578, 12.96526215,  7.91211728,\n",
       "       13.70683374,  7.88359529, 17.63811391, 12.84166689, 17.89956543,\n",
       "       11.1351015 ,  7.36069225, 10.80234501, 17.46222834,  9.82309022,\n",
       "        7.0231821 , 19.59662349,  7.38921423, 17.43846002,  8.74400848,\n",
       "        9.28592618,  8.20684445, 20.00068494,  9.03398199, 15.77943127,\n",
       "       10.47909586, 16.1977537 , 17.47173567, 11.96223904, 11.56293126,\n",
       "       13.6592971 , 18.40345382, 18.5508174 ,  8.79629879,  9.11479428,\n",
       "       20.33344142, 12.74183994, 16.3831466 , 15.13293296, 15.91728752,\n",
       "        7.18480668, 11.45359699, 14.11089519,  7.54608514, 13.250482  ,\n",
       "       15.18997693, 11.06379654, 15.94580951, 14.76214716, 12.56120071,\n",
       "       18.13724863,  7.84081231, 16.82048369, 17.2292988 , 20.50457333,\n",
       "        9.36673847, 14.8096838 ,  7.9216246 , 14.9950767 , 17.56205528,\n",
       "       20.15280219, 18.79800793, 15.08064265, 20.14329486, 14.86197411,\n",
       "       14.43414434, 17.37666239,  9.66146564, 20.66144424, 19.05470579,\n",
       "       16.73491774, 13.62126779, 16.07415844, 20.58538561,  7.87884163,\n",
       "        8.86760375, 10.5789228 ,  7.80753667, 14.91901808, 14.10614152,\n",
       "        8.80580612, 11.46785798, 15.40389181, 20.47129768, 18.0231607 ])"
      ]
     },
     "execution_count": 24,
     "metadata": {},
     "output_type": "execute_result"
    }
   ],
   "source": [
    "y_predicted=b1*x+b0\n",
    "y_predicted"
   ]
  },
  {
   "cell_type": "code",
   "execution_count": 25,
   "metadata": {},
   "outputs": [
    {
     "name": "stdout",
     "output_type": "stream",
     "text": [
      "r2 score: 0.14516305794607154\n"
     ]
    }
   ],
   "source": [
    "# R2 score\n",
    "n1=0\n",
    "d1=0\n",
    "for i in range(n):\n",
    "    n1+=(y_predicted[i]-y_mean)**2\n",
    "    d1+=(y[i]-y_mean)**2\n",
    "r2=1-n1/d1\n",
    "print(\"r2 score:\",r2)"
   ]
  },
  {
   "cell_type": "code",
   "execution_count": 26,
   "metadata": {},
   "outputs": [
    {
     "name": "stdout",
     "output_type": "stream",
     "text": [
      "r2 score: -11.261123985373484\n"
     ]
    }
   ],
   "source": [
    "# R2 score\n",
    "n1=0\n",
    "d1=0\n",
    "for i in range(n):\n",
    "    n1+=(y_predicted[i]-y_mean)**2\n",
    "    d1+=(y[2]-y_mean)**2\n",
    "r2=1-n1/d1\n",
    "print(\"r2 score:\",r2)"
   ]
  },
  {
   "cell_type": "code",
   "execution_count": 27,
   "metadata": {},
   "outputs": [
    {
     "data": {
      "text/plain": [
       "<matplotlib.collections.PathCollection at 0xb61c0f0>"
      ]
     },
     "execution_count": 27,
     "metadata": {},
     "output_type": "execute_result"
    },
    {
     "data": {
      "image/png": "[encoded data removed]",
      "text/plain": [
       "<Figure size 432x288 with 1 Axes>"
      ]
     },
     "metadata": {
      "needs_background": "light"
     },
     "output_type": "display_data"
    }
   ],
   "source": [
    "plt.scatter(x,y_predicted)"
   ]
  },
  {
   "cell_type": "code",
   "execution_count": 29,
   "metadata": {},
   "outputs": [],
   "source": [
    "#sklearn for algorithms\n",
    "from sklearn.linear_model import LinearRegression"
   ]
  },
  {
   "cell_type": "code",
   "execution_count": 30,
   "metadata": {},
   "outputs": [
    {
     "data": {
      "text/plain": [
       "array([[230.1],\n",
       "       [ 44.5],\n",
       "       [ 17.2],\n",
       "       [151.5],\n",
       "       [180.8],\n",
       "       [  8.7],\n",
       "       [ 57.5],\n",
       "       [120.2],\n",
       "       [  8.6],\n",
       "       [199.8],\n",
       "       [ 66.1],\n",
       "       [214.7],\n",
       "       [ 23.8],\n",
       "       [ 97.5],\n",
       "       [204.1],\n",
       "       [195.4],\n",
       "       [ 67.8],\n",
       "       [281.4],\n",
       "       [ 69.2],\n",
       "       [147.3],\n",
       "       [218.4],\n",
       "       [237.4],\n",
       "       [ 13.2],\n",
       "       [228.3],\n",
       "       [ 62.3],\n",
       "       [262.9],\n",
       "       [142.9],\n",
       "       [240.1],\n",
       "       [248.8],\n",
       "       [ 70.6],\n",
       "       [292.9],\n",
       "       [112.9],\n",
       "       [ 97.2],\n",
       "       [265.6],\n",
       "       [ 95.7],\n",
       "       [290.7],\n",
       "       [266.9],\n",
       "       [ 74.7],\n",
       "       [ 43.1],\n",
       "       [228. ],\n",
       "       [202.5],\n",
       "       [177. ],\n",
       "       [293.6],\n",
       "       [206.9],\n",
       "       [ 25.1],\n",
       "       [175.1],\n",
       "       [ 89.7],\n",
       "       [239.9],\n",
       "       [227.2],\n",
       "       [ 66.9],\n",
       "       [199.8],\n",
       "       [100.4],\n",
       "       [216.4],\n",
       "       [182.6],\n",
       "       [262.7],\n",
       "       [198.9],\n",
       "       [  7.3],\n",
       "       [136.2],\n",
       "       [210.8],\n",
       "       [210.7],\n",
       "       [ 53.5],\n",
       "       [261.3],\n",
       "       [239.3],\n",
       "       [102.7],\n",
       "       [131.1],\n",
       "       [ 69. ],\n",
       "       [ 31.5],\n",
       "       [139.3],\n",
       "       [237.4],\n",
       "       [216.8],\n",
       "       [199.1],\n",
       "       [109.8],\n",
       "       [ 26.8],\n",
       "       [129.4],\n",
       "       [213.4],\n",
       "       [ 16.9],\n",
       "       [ 27.5],\n",
       "       [120.5],\n",
       "       [  5.4],\n",
       "       [116. ],\n",
       "       [ 76.4],\n",
       "       [239.8],\n",
       "       [ 75.3],\n",
       "       [ 68.4],\n",
       "       [213.5],\n",
       "       [193.2],\n",
       "       [ 76.3],\n",
       "       [110.7],\n",
       "       [ 88.3],\n",
       "       [109.8],\n",
       "       [134.3],\n",
       "       [ 28.6],\n",
       "       [217.7],\n",
       "       [250.9],\n",
       "       [107.4],\n",
       "       [163.3],\n",
       "       [197.6],\n",
       "       [184.9],\n",
       "       [289.7],\n",
       "       [135.2],\n",
       "       [222.4],\n",
       "       [296.4],\n",
       "       [280.2],\n",
       "       [187.9],\n",
       "       [238.2],\n",
       "       [137.9],\n",
       "       [ 25. ],\n",
       "       [ 90.4],\n",
       "       [ 13.1],\n",
       "       [255.4],\n",
       "       [225.8],\n",
       "       [241.7],\n",
       "       [175.7],\n",
       "       [209.6],\n",
       "       [ 78.2],\n",
       "       [ 75.1],\n",
       "       [139.2],\n",
       "       [ 76.4],\n",
       "       [125.7],\n",
       "       [ 19.4],\n",
       "       [141.3],\n",
       "       [ 18.8],\n",
       "       [224. ],\n",
       "       [123.1],\n",
       "       [229.5],\n",
       "       [ 87.2],\n",
       "       [  7.8],\n",
       "       [ 80.2],\n",
       "       [220.3],\n",
       "       [ 59.6],\n",
       "       [  0.7],\n",
       "       [265.2],\n",
       "       [  8.4],\n",
       "       [219.8],\n",
       "       [ 36.9],\n",
       "       [ 48.3],\n",
       "       [ 25.6],\n",
       "       [273.7],\n",
       "       [ 43. ],\n",
       "       [184.9],\n",
       "       [ 73.4],\n",
       "       [193.7],\n",
       "       [220.5],\n",
       "       [104.6],\n",
       "       [ 96.2],\n",
       "       [140.3],\n",
       "       [240.1],\n",
       "       [243.2],\n",
       "       [ 38. ],\n",
       "       [ 44.7],\n",
       "       [280.7],\n",
       "       [121. ],\n",
       "       [197.6],\n",
       "       [171.3],\n",
       "       [187.8],\n",
       "       [  4.1],\n",
       "       [ 93.9],\n",
       "       [149.8],\n",
       "       [ 11.7],\n",
       "       [131.7],\n",
       "       [172.5],\n",
       "       [ 85.7],\n",
       "       [188.4],\n",
       "       [163.5],\n",
       "       [117.2],\n",
       "       [234.5],\n",
       "       [ 17.9],\n",
       "       [206.8],\n",
       "       [215.4],\n",
       "       [284.3],\n",
       "       [ 50. ],\n",
       "       [164.5],\n",
       "       [ 19.6],\n",
       "       [168.4],\n",
       "       [222.4],\n",
       "       [276.9],\n",
       "       [248.4],\n",
       "       [170.2],\n",
       "       [276.7],\n",
       "       [165.6],\n",
       "       [156.6],\n",
       "       [218.5],\n",
       "       [ 56.2],\n",
       "       [287.6],\n",
       "       [253.8],\n",
       "       [205. ],\n",
       "       [139.5],\n",
       "       [191.1],\n",
       "       [286. ],\n",
       "       [ 18.7],\n",
       "       [ 39.5],\n",
       "       [ 75.5],\n",
       "       [ 17.2],\n",
       "       [166.8],\n",
       "       [149.7],\n",
       "       [ 38.2],\n",
       "       [ 94.2],\n",
       "       [177. ],\n",
       "       [283.6],\n",
       "       [232.1]])"
      ]
     },
     "execution_count": 30,
     "metadata": {},
     "output_type": "execute_result"
    }
   ],
   "source": [
    "#x,y\n",
    "x=data[\"TV\"].values.reshape(-1,1)\n",
    "x"
   ]
  },
  {
   "cell_type": "code",
   "execution_count": 32,
   "metadata": {},
   "outputs": [
    {
     "data": {
      "text/plain": [
       "LinearRegression(copy_X=True, fit_intercept=True, n_jobs=None, normalize=False)"
      ]
     },
     "execution_count": 32,
     "metadata": {},
     "output_type": "execute_result"
    }
   ],
   "source": [
    "reg=LinearRegression()\n",
    "reg.fit(x,y)"
   ]
  },
  {
   "cell_type": "raw",
   "metadata": {},
   "source": [
    "reg.coef_"
   ]
  },
  {
   "cell_type": "code",
   "execution_count": 33,
   "metadata": {},
   "outputs": [
    {
     "data": {
      "text/plain": [
       "7.032593549127693"
      ]
     },
     "execution_count": 33,
     "metadata": {},
     "output_type": "execute_result"
    }
   ],
   "source": [
    "reg.intercept_"
   ]
  },
  {
   "cell_type": "code",
   "execution_count": 34,
   "metadata": {},
   "outputs": [
    {
     "data": {
      "text/plain": [
       "array([17.97077451,  9.14797405,  7.85022376, 14.23439457, 15.62721814,\n",
       "        7.44616232,  9.76595037, 12.74649773,  7.44140866, 16.53041431,\n",
       "       10.17476548, 17.23871025,  8.16396559, 11.66741599, 16.73482186,\n",
       "       16.32125309, 10.25557777, 20.40940417, 10.32212907, 14.03474068,\n",
       "       17.41459582, 18.31779199,  7.6600772 , 17.88520856,  9.99412625,\n",
       "       19.52997632, 13.82557947, 18.44614092, 18.85970969, 10.38868036,\n",
       "       20.95607553, 12.39948025, 11.653155  , 19.65832525, 11.58185004,\n",
       "       20.85149492, 19.72012288, 10.58358059,  9.08142275, 17.87094757,\n",
       "       16.65876324, 15.44657891, 20.98935118, 16.86792445,  8.22576322,\n",
       "       15.35625929, 11.2966302 , 18.43663359, 17.83291826, 10.21279479,\n",
       "       16.53041431, 11.80527225, 17.31952254, 15.71278409, 19.52046899,\n",
       "       16.48763133,  7.37961102, 13.50708398, 17.05331735, 17.04856369,\n",
       "        9.57580381, 19.45391769, 18.4081116 , 11.91460652, 13.26464711,\n",
       "       10.31262174,  8.52999772, 13.65444756, 18.31779199, 17.3385372 ,\n",
       "       16.49713866, 12.25211667,  8.30657551, 13.18383482, 17.17691262,\n",
       "        7.83596277,  8.33985116, 12.76075872,  7.28929141, 12.54684384,\n",
       "       10.66439288, 18.43187992, 10.61210257, 10.28409975, 17.18166628,\n",
       "       16.21667248, 10.65963921, 12.29489965, 11.2300789 , 12.25211667,\n",
       "       13.41676436,  8.39214147, 17.38132017, 18.95953663, 12.13802873,\n",
       "       14.79532693, 16.4258337 , 15.82211837, 20.80395828, 13.45954734,\n",
       "       17.60474238, 21.12245377, 20.3523602 , 15.96472829, 18.3558213 ,\n",
       "       13.58789626,  8.22100956, 11.32990584,  7.65532354, 19.17345152,\n",
       "       17.76636696, 18.52219954, 15.38478127, 16.99627338, 10.74995883,\n",
       "       10.60259525, 13.6496939 , 10.66439288, 13.00794925,  7.95480437,\n",
       "       13.74952084,  7.92628239, 17.68080101, 12.88435399, 17.94225253,\n",
       "       11.17778859,  7.40337934, 10.84503211, 17.50491544,  9.86577732,\n",
       "        7.0658692 , 19.63931059,  7.43190133, 17.48114712,  8.78669558,\n",
       "        9.32861328,  8.24953154, 20.04337204,  9.07666909, 15.82211837,\n",
       "       10.52178296, 16.2404408 , 17.51442276, 12.00492614, 11.60561836,\n",
       "       13.7019842 , 18.44614092, 18.5935045 ,  8.83898589,  9.15748138,\n",
       "       20.37612852, 12.78452704, 16.4258337 , 15.17562006, 15.95997462,\n",
       "        7.22749377, 11.49628409, 14.15358229,  7.58877224, 13.29316909,\n",
       "       15.23266402, 11.10648363, 15.98849661, 14.80483426, 12.60388781,\n",
       "       18.17993573,  7.88349941, 16.86317079, 17.2719859 , 20.54726042,\n",
       "        9.40942557, 14.8523709 ,  7.9643117 , 15.0377638 , 17.60474238,\n",
       "       20.19548929, 18.84069503, 15.12332975, 20.18598196, 14.9046612 ,\n",
       "       14.47683144, 17.41934948,  9.70415274, 20.70413134, 19.09739289,\n",
       "       16.77760484, 13.66395489, 16.11684554, 20.62807271,  7.92152873,\n",
       "        8.91029085, 10.6216099 ,  7.85022376, 14.96170517, 14.14882862,\n",
       "        8.84849321, 11.51054508, 15.44657891, 20.51398478, 18.06584779])"
      ]
     },
     "execution_count": 34,
     "metadata": {},
     "output_type": "execute_result"
    }
   ],
   "source": [
    "y_predict=reg.predict(x)\n",
    "y_predict"
   ]
  },
  {
   "cell_type": "code",
   "execution_count": 35,
   "metadata": {},
   "outputs": [
    {
     "name": "stdout",
     "output_type": "stream",
     "text": [
      "0.611875050850071\n"
     ]
    }
   ],
   "source": [
    "score=reg.score(x,y)\n",
    "print(score)"
   ]
  },
  {
   "cell_type": "code",
   "execution_count": 36,
   "metadata": {},
   "outputs": [
    {
     "data": {
      "text/plain": [
       "array([8.84849321])"
      ]
     },
     "execution_count": 36,
     "metadata": {},
     "output_type": "execute_result"
    }
   ],
   "source": [
    "reg.predict([[38.2]])"
   ]
  },
  {
   "cell_type": "code",
   "execution_count": 37,
   "metadata": {},
   "outputs": [
    {
     "data": {
      "image/png": "[encoded data removed]",
      "text/plain": [
       "<Figure size 432x288 with 1 Axes>"
      ]
     },
     "metadata": {
      "needs_background": "light"
     },
     "output_type": "display_data"
    }
   ],
   "source": [
    "import matplotlib.pyplot as plt\n",
    "plt.scatter(x,y,c='m',label=\"before prediction\")\n",
    "plt.plot(x,y_predict,c='r',label='LinearRegression')\n",
    "plt.xlabel(\"x\")\n",
    "plt.ylabel(\"y\")\n",
    "plt.title(\"LinearRegression Model\")\n",
    "plt.legend(loc='best')\n",
    "plt.show()"
   ]
  },
  {
   "cell_type": "code",
   "execution_count": 39,
   "metadata": {},
   "outputs": [],
   "source": [
    "#Polynomial---Multiple degree=ax2+bx+c\n",
    "from sklearn.preprocessing import PolynomialFeatures"
   ]
  },
  {
   "cell_type": "code",
   "execution_count": 40,
   "metadata": {},
   "outputs": [
    {
     "name": "stdout",
     "output_type": "stream",
     "text": [
      "[[1.6703416 ]\n",
      " [3.07797922]\n",
      " [3.88984339]\n",
      " [2.88302869]\n",
      " [1.47575371]\n",
      " [2.8124566 ]\n",
      " [0.33608024]\n",
      " [5.62529691]\n",
      " [5.97034872]\n",
      " [1.46528528]\n",
      " [4.771583  ]\n",
      " [4.94274383]\n",
      " [4.07462177]\n",
      " [3.696022  ]\n",
      " [3.7123151 ]\n",
      " [5.81744498]\n",
      " [5.06912249]\n",
      " [2.70919824]\n",
      " [1.90297019]\n",
      " [5.75423509]\n",
      " [1.2094057 ]\n",
      " [2.04562382]\n",
      " [5.8144256 ]\n",
      " [0.31869545]\n",
      " [1.37021735]\n",
      " [0.71101798]\n",
      " [5.85313851]\n",
      " [4.69634969]\n",
      " [3.8473378 ]\n",
      " [1.56803262]\n",
      " [2.45883315]\n",
      " [4.61584238]\n",
      " [5.20039833]\n",
      " [2.44422112]\n",
      " [0.46821878]\n",
      " [3.76894297]\n",
      " [4.02335348]\n",
      " [0.89775428]\n",
      " [2.59179114]\n",
      " [1.54910774]\n",
      " [4.62602308]\n",
      " [4.90380135]\n",
      " [0.05700409]\n",
      " [5.50938818]\n",
      " [1.01761724]\n",
      " [5.72671451]\n",
      " [5.6527831 ]\n",
      " [0.9052365 ]\n",
      " [3.6767836 ]\n",
      " [1.97066832]\n",
      " [2.31849637]\n",
      " [3.67693305]\n",
      " [2.06530168]\n",
      " [3.15437078]\n",
      " [0.98889427]\n",
      " [4.43318239]\n",
      " [3.06853026]\n",
      " [2.75672858]\n",
      " [4.19165691]\n",
      " [1.98119289]\n",
      " [2.85367847]\n",
      " [4.88312026]\n",
      " [5.91750748]\n",
      " [0.71543327]\n",
      " [2.81810191]\n",
      " [2.99770414]\n",
      " [5.02321369]\n",
      " [2.66239061]\n",
      " [4.42908319]\n",
      " [0.59321883]\n",
      " [5.93764173]\n",
      " [3.65868362]\n",
      " [1.14929115]\n",
      " [0.95290704]\n",
      " [2.93220758]\n",
      " [0.33286235]\n",
      " [5.59459708]\n",
      " [2.42291806]\n",
      " [2.87289656]\n",
      " [3.31885968]\n",
      " [1.554437  ]\n",
      " [1.51179289]\n",
      " [3.0580711 ]\n",
      " [4.96358891]\n",
      " [3.33903044]\n",
      " [3.42385479]\n",
      " [3.97699333]\n",
      " [0.65520718]\n",
      " [3.96754788]\n",
      " [4.08621376]\n",
      " [1.95983286]\n",
      " [2.12419415]\n",
      " [2.92961256]\n",
      " [3.11124096]\n",
      " [1.12539955]\n",
      " [3.93803012]\n",
      " [4.40172706]\n",
      " [4.05454525]\n",
      " [1.22571753]\n",
      " [4.44411993]]\n",
      "(100, 1)\n"
     ]
    }
   ],
   "source": [
    "x1=6*np.random.rand(100,1)\n",
    "print(x1)\n",
    "y1=0.5*x1**2+x1*2+np.random.rand(100,1)\n",
    "print(x1.shape)"
   ]
  },
  {
   "cell_type": "code",
   "execution_count": 41,
   "metadata": {},
   "outputs": [
    {
     "name": "stdout",
     "output_type": "stream",
     "text": [
      "(100, 1)\n"
     ]
    }
   ],
   "source": [
    "print(y1.shape)"
   ]
  },
  {
   "cell_type": "code",
   "execution_count": 42,
   "metadata": {},
   "outputs": [
    {
     "data": {
      "text/plain": [
       "[<matplotlib.lines.Line2D at 0xbd6ba58>]"
      ]
     },
     "execution_count": 42,
     "metadata": {},
     "output_type": "execute_result"
    },
    {
     "data": {
      "image/png": "[encoded data removed]",
      "text/plain": [
       "<Figure size 432x288 with 1 Axes>"
      ]
     },
     "metadata": {
      "needs_background": "light"
     },
     "output_type": "display_data"
    }
   ],
   "source": [
    "plt.plot(x1,y1,'.')"
   ]
  },
  {
   "cell_type": "code",
   "execution_count": 45,
   "metadata": {},
   "outputs": [],
   "source": [
    "poly=PolynomialFeatures(degree=1)"
   ]
  },
  {
   "cell_type": "code",
   "execution_count": 46,
   "metadata": {},
   "outputs": [
    {
     "data": {
      "text/plain": [
       "array([[1.        , 1.6703416 ],\n",
       "       [1.        , 3.07797922],\n",
       "       [1.        , 3.88984339],\n",
       "       [1.        , 2.88302869],\n",
       "       [1.        , 1.47575371],\n",
       "       [1.        , 2.8124566 ],\n",
       "       [1.        , 0.33608024],\n",
       "       [1.        , 5.62529691],\n",
       "       [1.        , 5.97034872],\n",
       "       [1.        , 1.46528528],\n",
       "       [1.        , 4.771583  ],\n",
       "       [1.        , 4.94274383],\n",
       "       [1.        , 4.07462177],\n",
       "       [1.        , 3.696022  ],\n",
       "       [1.        , 3.7123151 ],\n",
       "       [1.        , 5.81744498],\n",
       "       [1.        , 5.06912249],\n",
       "       [1.        , 2.70919824],\n",
       "       [1.        , 1.90297019],\n",
       "       [1.        , 5.75423509],\n",
       "       [1.        , 1.2094057 ],\n",
       "       [1.        , 2.04562382],\n",
       "       [1.        , 5.8144256 ],\n",
       "       [1.        , 0.31869545],\n",
       "       [1.        , 1.37021735],\n",
       "       [1.        , 0.71101798],\n",
       "       [1.        , 5.85313851],\n",
       "       [1.        , 4.69634969],\n",
       "       [1.        , 3.8473378 ],\n",
       "       [1.        , 1.56803262],\n",
       "       [1.        , 2.45883315],\n",
       "       [1.        , 4.61584238],\n",
       "       [1.        , 5.20039833],\n",
       "       [1.        , 2.44422112],\n",
       "       [1.        , 0.46821878],\n",
       "       [1.        , 3.76894297],\n",
       "       [1.        , 4.02335348],\n",
       "       [1.        , 0.89775428],\n",
       "       [1.        , 2.59179114],\n",
       "       [1.        , 1.54910774],\n",
       "       [1.        , 4.62602308],\n",
       "       [1.        , 4.90380135],\n",
       "       [1.        , 0.05700409],\n",
       "       [1.        , 5.50938818],\n",
       "       [1.        , 1.01761724],\n",
       "       [1.        , 5.72671451],\n",
       "       [1.        , 5.6527831 ],\n",
       "       [1.        , 0.9052365 ],\n",
       "       [1.        , 3.6767836 ],\n",
       "       [1.        , 1.97066832],\n",
       "       [1.        , 2.31849637],\n",
       "       [1.        , 3.67693305],\n",
       "       [1.        , 2.06530168],\n",
       "       [1.        , 3.15437078],\n",
       "       [1.        , 0.98889427],\n",
       "       [1.        , 4.43318239],\n",
       "       [1.        , 3.06853026],\n",
       "       [1.        , 2.75672858],\n",
       "       [1.        , 4.19165691],\n",
       "       [1.        , 1.98119289],\n",
       "       [1.        , 2.85367847],\n",
       "       [1.        , 4.88312026],\n",
       "       [1.        , 5.91750748],\n",
       "       [1.        , 0.71543327],\n",
       "       [1.        , 2.81810191],\n",
       "       [1.        , 2.99770414],\n",
       "       [1.        , 5.02321369],\n",
       "       [1.        , 2.66239061],\n",
       "       [1.        , 4.42908319],\n",
       "       [1.        , 0.59321883],\n",
       "       [1.        , 5.93764173],\n",
       "       [1.        , 3.65868362],\n",
       "       [1.        , 1.14929115],\n",
       "       [1.        , 0.95290704],\n",
       "       [1.        , 2.93220758],\n",
       "       [1.        , 0.33286235],\n",
       "       [1.        , 5.59459708],\n",
       "       [1.        , 2.42291806],\n",
       "       [1.        , 2.87289656],\n",
       "       [1.        , 3.31885968],\n",
       "       [1.        , 1.554437  ],\n",
       "       [1.        , 1.51179289],\n",
       "       [1.        , 3.0580711 ],\n",
       "       [1.        , 4.96358891],\n",
       "       [1.        , 3.33903044],\n",
       "       [1.        , 3.42385479],\n",
       "       [1.        , 3.97699333],\n",
       "       [1.        , 0.65520718],\n",
       "       [1.        , 3.96754788],\n",
       "       [1.        , 4.08621376],\n",
       "       [1.        , 1.95983286],\n",
       "       [1.        , 2.12419415],\n",
       "       [1.        , 2.92961256],\n",
       "       [1.        , 3.11124096],\n",
       "       [1.        , 1.12539955],\n",
       "       [1.        , 3.93803012],\n",
       "       [1.        , 4.40172706],\n",
       "       [1.        , 4.05454525],\n",
       "       [1.        , 1.22571753],\n",
       "       [1.        , 4.44411993]])"
      ]
     },
     "execution_count": 46,
     "metadata": {},
     "output_type": "execute_result"
    }
   ],
   "source": [
    "x_poly=poly.fit_transform(x1)\n",
    "x_poly"
   ]
  },
  {
   "cell_type": "code",
   "execution_count": 47,
   "metadata": {},
   "outputs": [
    {
     "data": {
      "text/plain": [
       "array([1.6703416])"
      ]
     },
     "execution_count": 47,
     "metadata": {},
     "output_type": "execute_result"
    }
   ],
   "source": [
    "x1[0]"
   ]
  },
  {
   "cell_type": "code",
   "execution_count": 48,
   "metadata": {},
   "outputs": [
    {
     "data": {
      "text/plain": [
       "array([1.       , 1.6703416])"
      ]
     },
     "execution_count": 48,
     "metadata": {},
     "output_type": "execute_result"
    }
   ],
   "source": [
    "x_poly[0]"
   ]
  },
  {
   "cell_type": "code",
   "execution_count": 49,
   "metadata": {},
   "outputs": [
    {
     "data": {
      "text/plain": [
       "array([2.88302869])"
      ]
     },
     "execution_count": 49,
     "metadata": {},
     "output_type": "execute_result"
    }
   ],
   "source": [
    "x1[3]"
   ]
  },
  {
   "cell_type": "code",
   "execution_count": 50,
   "metadata": {},
   "outputs": [
    {
     "data": {
      "text/plain": [
       "array([1.        , 2.88302869])"
      ]
     },
     "execution_count": 50,
     "metadata": {},
     "output_type": "execute_result"
    }
   ],
   "source": [
    "x_poly[3]"
   ]
  },
  {
   "cell_type": "code",
   "execution_count": 51,
   "metadata": {},
   "outputs": [
    {
     "data": {
      "text/plain": [
       "PolynomialFeatures(degree=1, include_bias=True, interaction_only=False,\n",
       "                   order='C')"
      ]
     },
     "execution_count": 51,
     "metadata": {},
     "output_type": "execute_result"
    }
   ],
   "source": [
    "poly.fit(x_poly,y1)"
   ]
  },
  {
   "cell_type": "code",
   "execution_count": 52,
   "metadata": {},
   "outputs": [],
   "source": [
    "from sklearn.linear_model import LinearRegression\n",
    "lin=LinearRegression()"
   ]
  },
  {
   "cell_type": "code",
   "execution_count": 53,
   "metadata": {},
   "outputs": [
    {
     "data": {
      "text/plain": [
       "LinearRegression(copy_X=True, fit_intercept=True, n_jobs=None, normalize=False)"
      ]
     },
     "execution_count": 53,
     "metadata": {},
     "output_type": "execute_result"
    }
   ],
   "source": [
    "lin.fit(x_poly,y1)"
   ]
  },
  {
   "cell_type": "code",
   "execution_count": 54,
   "metadata": {},
   "outputs": [
    {
     "data": {
      "text/plain": [
       "array([-2.98890059])"
      ]
     },
     "execution_count": 54,
     "metadata": {},
     "output_type": "execute_result"
    }
   ],
   "source": [
    "lin.intercept_"
   ]
  },
  {
   "cell_type": "code",
   "execution_count": 55,
   "metadata": {},
   "outputs": [
    {
     "data": {
      "text/plain": [
       "array([[0.       , 5.1228426]])"
      ]
     },
     "execution_count": 55,
     "metadata": {},
     "output_type": "execute_result"
    }
   ],
   "source": [
    "lin.coef_"
   ]
  },
  {
   "cell_type": "code",
   "execution_count": 56,
   "metadata": {},
   "outputs": [],
   "source": [
    "y_predicted=lin.predict(x_poly)"
   ]
  },
  {
   "cell_type": "code",
   "execution_count": 59,
   "metadata": {},
   "outputs": [
    {
     "data": {
      "image/png": "[encoded data removed]",
      "text/plain": [
       "<Figure size 432x288 with 1 Axes>"
      ]
     },
     "metadata": {
      "needs_background": "light"
     },
     "output_type": "display_data"
    }
   ],
   "source": [
    "plt.scatter(x1,y1,c='g',label=\"before polynomial\")\n",
    "plt.plot(x1,y_predicted,c=\"r\",label=\"after polynomail linear regression\")\n",
    "plt.xlabel(\"x1\")\n",
    "plt.ylabel(\"y1\")\n",
    "plt.title(\"linear regression with polynomial features\")\n",
    "plt.legend('best')\n",
    "plt.show()"
   ]
  },
  {
   "cell_type": "code",
   "execution_count": 60,
   "metadata": {},
   "outputs": [],
   "source": [
    "import pandas as pd\n",
    "import numpy as np\n",
    "import matplotlib.pyplot as plt"
   ]
  },
  {
   "cell_type": "code",
   "execution_count": 61,
   "metadata": {},
   "outputs": [],
   "source": [
    "ad_df=pd.read_csv(\"advertising.csv\")"
   ]
  },
  {
   "cell_type": "code",
   "execution_count": 62,
   "metadata": {},
   "outputs": [
    {
     "data": {
      "text/html": [
       "<div>\n",
       "<style scoped>\n",
       "    .dataframe tbody tr th:only-of-type {\n",
       "        vertical-align: middle;\n",
       "    }\n",
       "\n",
       "    .dataframe tbody tr th {\n",
       "        vertical-align: top;\n",
       "    }\n",
       "\n",
       "    .dataframe thead th {\n",
       "        text-align: right;\n",
       "    }\n",
       "</style>\n",
       "<table border=\"1\" class=\"dataframe\">\n",
       "  <thead>\n",
       "    <tr style=\"text-align: right;\">\n",
       "      <th></th>\n",
       "      <th>Unnamed: 0</th>\n",
       "      <th>TV</th>\n",
       "      <th>radio</th>\n",
       "      <th>newspaper</th>\n",
       "      <th>sales</th>\n",
       "    </tr>\n",
       "  </thead>\n",
       "  <tbody>\n",
       "    <tr>\n",
       "      <th>0</th>\n",
       "      <td>1</td>\n",
       "      <td>230.1</td>\n",
       "      <td>37.8</td>\n",
       "      <td>69.2</td>\n",
       "      <td>22.1</td>\n",
       "    </tr>\n",
       "    <tr>\n",
       "      <th>1</th>\n",
       "      <td>2</td>\n",
       "      <td>44.5</td>\n",
       "      <td>39.3</td>\n",
       "      <td>45.1</td>\n",
       "      <td>10.4</td>\n",
       "    </tr>\n",
       "    <tr>\n",
       "      <th>2</th>\n",
       "      <td>3</td>\n",
       "      <td>17.2</td>\n",
       "      <td>45.9</td>\n",
       "      <td>69.3</td>\n",
       "      <td>9.3</td>\n",
       "    </tr>\n",
       "    <tr>\n",
       "      <th>3</th>\n",
       "      <td>4</td>\n",
       "      <td>151.5</td>\n",
       "      <td>41.3</td>\n",
       "      <td>58.5</td>\n",
       "      <td>18.5</td>\n",
       "    </tr>\n",
       "    <tr>\n",
       "      <th>4</th>\n",
       "      <td>5</td>\n",
       "      <td>180.8</td>\n",
       "      <td>10.8</td>\n",
       "      <td>58.4</td>\n",
       "      <td>12.9</td>\n",
       "    </tr>\n",
       "  </tbody>\n",
       "</table>\n",
       "</div>"
      ],
      "text/plain": [
       "   Unnamed: 0     TV  radio  newspaper  sales\n",
       "0           1  230.1   37.8       69.2   22.1\n",
       "1           2   44.5   39.3       45.1   10.4\n",
       "2           3   17.2   45.9       69.3    9.3\n",
       "3           4  151.5   41.3       58.5   18.5\n",
       "4           5  180.8   10.8       58.4   12.9"
      ]
     },
     "execution_count": 62,
     "metadata": {},
     "output_type": "execute_result"
    }
   ],
   "source": [
    "ad_df.head()"
   ]
  },
  {
   "cell_type": "code",
   "execution_count": 63,
   "metadata": {},
   "outputs": [
    {
     "data": {
      "text/html": [
       "<div>\n",
       "<style scoped>\n",
       "    .dataframe tbody tr th:only-of-type {\n",
       "        vertical-align: middle;\n",
       "    }\n",
       "\n",
       "    .dataframe tbody tr th {\n",
       "        vertical-align: top;\n",
       "    }\n",
       "\n",
       "    .dataframe thead th {\n",
       "        text-align: right;\n",
       "    }\n",
       "</style>\n",
       "<table border=\"1\" class=\"dataframe\">\n",
       "  <thead>\n",
       "    <tr style=\"text-align: right;\">\n",
       "      <th></th>\n",
       "      <th>TV</th>\n",
       "      <th>radio</th>\n",
       "      <th>newspaper</th>\n",
       "      <th>sales</th>\n",
       "    </tr>\n",
       "  </thead>\n",
       "  <tbody>\n",
       "    <tr>\n",
       "      <th>0</th>\n",
       "      <td>230.1</td>\n",
       "      <td>37.8</td>\n",
       "      <td>69.2</td>\n",
       "      <td>22.1</td>\n",
       "    </tr>\n",
       "    <tr>\n",
       "      <th>1</th>\n",
       "      <td>44.5</td>\n",
       "      <td>39.3</td>\n",
       "      <td>45.1</td>\n",
       "      <td>10.4</td>\n",
       "    </tr>\n",
       "    <tr>\n",
       "      <th>2</th>\n",
       "      <td>17.2</td>\n",
       "      <td>45.9</td>\n",
       "      <td>69.3</td>\n",
       "      <td>9.3</td>\n",
       "    </tr>\n",
       "    <tr>\n",
       "      <th>3</th>\n",
       "      <td>151.5</td>\n",
       "      <td>41.3</td>\n",
       "      <td>58.5</td>\n",
       "      <td>18.5</td>\n",
       "    </tr>\n",
       "    <tr>\n",
       "      <th>4</th>\n",
       "      <td>180.8</td>\n",
       "      <td>10.8</td>\n",
       "      <td>58.4</td>\n",
       "      <td>12.9</td>\n",
       "    </tr>\n",
       "  </tbody>\n",
       "</table>\n",
       "</div>"
      ],
      "text/plain": [
       "      TV  radio  newspaper  sales\n",
       "0  230.1   37.8       69.2   22.1\n",
       "1   44.5   39.3       45.1   10.4\n",
       "2   17.2   45.9       69.3    9.3\n",
       "3  151.5   41.3       58.5   18.5\n",
       "4  180.8   10.8       58.4   12.9"
      ]
     },
     "execution_count": 63,
     "metadata": {},
     "output_type": "execute_result"
    }
   ],
   "source": [
    "ad_df.drop(\"Unnamed: 0\",axis=1,inplace=True)\n",
    "ad_df.head()"
   ]
  },
  {
   "cell_type": "code",
   "execution_count": 64,
   "metadata": {},
   "outputs": [
    {
     "data": {
      "text/plain": [
       "0      230.1\n",
       "1       44.5\n",
       "2       17.2\n",
       "3      151.5\n",
       "4      180.8\n",
       "5        8.7\n",
       "6       57.5\n",
       "7      120.2\n",
       "8        8.6\n",
       "9      199.8\n",
       "10      66.1\n",
       "11     214.7\n",
       "12      23.8\n",
       "13      97.5\n",
       "14     204.1\n",
       "15     195.4\n",
       "16      67.8\n",
       "17     281.4\n",
       "18      69.2\n",
       "19     147.3\n",
       "20     218.4\n",
       "21     237.4\n",
       "22      13.2\n",
       "23     228.3\n",
       "24      62.3\n",
       "25     262.9\n",
       "26     142.9\n",
       "27     240.1\n",
       "28     248.8\n",
       "29      70.6\n",
       "       ...  \n",
       "170     50.0\n",
       "171    164.5\n",
       "172     19.6\n",
       "173    168.4\n",
       "174    222.4\n",
       "175    276.9\n",
       "176    248.4\n",
       "177    170.2\n",
       "178    276.7\n",
       "179    165.6\n",
       "180    156.6\n",
       "181    218.5\n",
       "182     56.2\n",
       "183    287.6\n",
       "184    253.8\n",
       "185    205.0\n",
       "186    139.5\n",
       "187    191.1\n",
       "188    286.0\n",
       "189     18.7\n",
       "190     39.5\n",
       "191     75.5\n",
       "192     17.2\n",
       "193    166.8\n",
       "194    149.7\n",
       "195     38.2\n",
       "196     94.2\n",
       "197    177.0\n",
       "198    283.6\n",
       "199    232.1\n",
       "Name: TV, Length: 200, dtype: float64"
      ]
     },
     "execution_count": 64,
     "metadata": {},
     "output_type": "execute_result"
    }
   ],
   "source": [
    "x=ad_df.iloc[:,0]\n",
    "x"
   ]
  },
  {
   "cell_type": "code",
   "execution_count": 65,
   "metadata": {},
   "outputs": [
    {
     "data": {
      "text/html": [
       "<div>\n",
       "<style scoped>\n",
       "    .dataframe tbody tr th:only-of-type {\n",
       "        vertical-align: middle;\n",
       "    }\n",
       "\n",
       "    .dataframe tbody tr th {\n",
       "        vertical-align: top;\n",
       "    }\n",
       "\n",
       "    .dataframe thead th {\n",
       "        text-align: right;\n",
       "    }\n",
       "</style>\n",
       "<table border=\"1\" class=\"dataframe\">\n",
       "  <thead>\n",
       "    <tr style=\"text-align: right;\">\n",
       "      <th></th>\n",
       "      <th>TV</th>\n",
       "      <th>radio</th>\n",
       "      <th>newspaper</th>\n",
       "    </tr>\n",
       "  </thead>\n",
       "  <tbody>\n",
       "    <tr>\n",
       "      <th>0</th>\n",
       "      <td>230.1</td>\n",
       "      <td>37.8</td>\n",
       "      <td>69.2</td>\n",
       "    </tr>\n",
       "    <tr>\n",
       "      <th>1</th>\n",
       "      <td>44.5</td>\n",
       "      <td>39.3</td>\n",
       "      <td>45.1</td>\n",
       "    </tr>\n",
       "    <tr>\n",
       "      <th>2</th>\n",
       "      <td>17.2</td>\n",
       "      <td>45.9</td>\n",
       "      <td>69.3</td>\n",
       "    </tr>\n",
       "    <tr>\n",
       "      <th>3</th>\n",
       "      <td>151.5</td>\n",
       "      <td>41.3</td>\n",
       "      <td>58.5</td>\n",
       "    </tr>\n",
       "    <tr>\n",
       "      <th>4</th>\n",
       "      <td>180.8</td>\n",
       "      <td>10.8</td>\n",
       "      <td>58.4</td>\n",
       "    </tr>\n",
       "    <tr>\n",
       "      <th>5</th>\n",
       "      <td>8.7</td>\n",
       "      <td>48.9</td>\n",
       "      <td>75.0</td>\n",
       "    </tr>\n",
       "    <tr>\n",
       "      <th>6</th>\n",
       "      <td>57.5</td>\n",
       "      <td>32.8</td>\n",
       "      <td>23.5</td>\n",
       "    </tr>\n",
       "    <tr>\n",
       "      <th>7</th>\n",
       "      <td>120.2</td>\n",
       "      <td>19.6</td>\n",
       "      <td>11.6</td>\n",
       "    </tr>\n",
       "    <tr>\n",
       "      <th>8</th>\n",
       "      <td>8.6</td>\n",
       "      <td>2.1</td>\n",
       "      <td>1.0</td>\n",
       "    </tr>\n",
       "    <tr>\n",
       "      <th>9</th>\n",
       "      <td>199.8</td>\n",
       "      <td>2.6</td>\n",
       "      <td>21.2</td>\n",
       "    </tr>\n",
       "    <tr>\n",
       "      <th>10</th>\n",
       "      <td>66.1</td>\n",
       "      <td>5.8</td>\n",
       "      <td>24.2</td>\n",
       "    </tr>\n",
       "    <tr>\n",
       "      <th>11</th>\n",
       "      <td>214.7</td>\n",
       "      <td>24.0</td>\n",
       "      <td>4.0</td>\n",
       "    </tr>\n",
       "    <tr>\n",
       "      <th>12</th>\n",
       "      <td>23.8</td>\n",
       "      <td>35.1</td>\n",
       "      <td>65.9</td>\n",
       "    </tr>\n",
       "    <tr>\n",
       "      <th>13</th>\n",
       "      <td>97.5</td>\n",
       "      <td>7.6</td>\n",
       "      <td>7.2</td>\n",
       "    </tr>\n",
       "    <tr>\n",
       "      <th>14</th>\n",
       "      <td>204.1</td>\n",
       "      <td>32.9</td>\n",
       "      <td>46.0</td>\n",
       "    </tr>\n",
       "    <tr>\n",
       "      <th>15</th>\n",
       "      <td>195.4</td>\n",
       "      <td>47.7</td>\n",
       "      <td>52.9</td>\n",
       "    </tr>\n",
       "    <tr>\n",
       "      <th>16</th>\n",
       "      <td>67.8</td>\n",
       "      <td>36.6</td>\n",
       "      <td>114.0</td>\n",
       "    </tr>\n",
       "    <tr>\n",
       "      <th>17</th>\n",
       "      <td>281.4</td>\n",
       "      <td>39.6</td>\n",
       "      <td>55.8</td>\n",
       "    </tr>\n",
       "    <tr>\n",
       "      <th>18</th>\n",
       "      <td>69.2</td>\n",
       "      <td>20.5</td>\n",
       "      <td>18.3</td>\n",
       "    </tr>\n",
       "    <tr>\n",
       "      <th>19</th>\n",
       "      <td>147.3</td>\n",
       "      <td>23.9</td>\n",
       "      <td>19.1</td>\n",
       "    </tr>\n",
       "    <tr>\n",
       "      <th>20</th>\n",
       "      <td>218.4</td>\n",
       "      <td>27.7</td>\n",
       "      <td>53.4</td>\n",
       "    </tr>\n",
       "    <tr>\n",
       "      <th>21</th>\n",
       "      <td>237.4</td>\n",
       "      <td>5.1</td>\n",
       "      <td>23.5</td>\n",
       "    </tr>\n",
       "    <tr>\n",
       "      <th>22</th>\n",
       "      <td>13.2</td>\n",
       "      <td>15.9</td>\n",
       "      <td>49.6</td>\n",
       "    </tr>\n",
       "    <tr>\n",
       "      <th>23</th>\n",
       "      <td>228.3</td>\n",
       "      <td>16.9</td>\n",
       "      <td>26.2</td>\n",
       "    </tr>\n",
       "    <tr>\n",
       "      <th>24</th>\n",
       "      <td>62.3</td>\n",
       "      <td>12.6</td>\n",
       "      <td>18.3</td>\n",
       "    </tr>\n",
       "    <tr>\n",
       "      <th>25</th>\n",
       "      <td>262.9</td>\n",
       "      <td>3.5</td>\n",
       "      <td>19.5</td>\n",
       "    </tr>\n",
       "    <tr>\n",
       "      <th>26</th>\n",
       "      <td>142.9</td>\n",
       "      <td>29.3</td>\n",
       "      <td>12.6</td>\n",
       "    </tr>\n",
       "    <tr>\n",
       "      <th>27</th>\n",
       "      <td>240.1</td>\n",
       "      <td>16.7</td>\n",
       "      <td>22.9</td>\n",
       "    </tr>\n",
       "    <tr>\n",
       "      <th>28</th>\n",
       "      <td>248.8</td>\n",
       "      <td>27.1</td>\n",
       "      <td>22.9</td>\n",
       "    </tr>\n",
       "    <tr>\n",
       "      <th>29</th>\n",
       "      <td>70.6</td>\n",
       "      <td>16.0</td>\n",
       "      <td>40.8</td>\n",
       "    </tr>\n",
       "    <tr>\n",
       "      <th>...</th>\n",
       "      <td>...</td>\n",
       "      <td>...</td>\n",
       "      <td>...</td>\n",
       "    </tr>\n",
       "    <tr>\n",
       "      <th>170</th>\n",
       "      <td>50.0</td>\n",
       "      <td>11.6</td>\n",
       "      <td>18.4</td>\n",
       "    </tr>\n",
       "    <tr>\n",
       "      <th>171</th>\n",
       "      <td>164.5</td>\n",
       "      <td>20.9</td>\n",
       "      <td>47.4</td>\n",
       "    </tr>\n",
       "    <tr>\n",
       "      <th>172</th>\n",
       "      <td>19.6</td>\n",
       "      <td>20.1</td>\n",
       "      <td>17.0</td>\n",
       "    </tr>\n",
       "    <tr>\n",
       "      <th>173</th>\n",
       "      <td>168.4</td>\n",
       "      <td>7.1</td>\n",
       "      <td>12.8</td>\n",
       "    </tr>\n",
       "    <tr>\n",
       "      <th>174</th>\n",
       "      <td>222.4</td>\n",
       "      <td>3.4</td>\n",
       "      <td>13.1</td>\n",
       "    </tr>\n",
       "    <tr>\n",
       "      <th>175</th>\n",
       "      <td>276.9</td>\n",
       "      <td>48.9</td>\n",
       "      <td>41.8</td>\n",
       "    </tr>\n",
       "    <tr>\n",
       "      <th>176</th>\n",
       "      <td>248.4</td>\n",
       "      <td>30.2</td>\n",
       "      <td>20.3</td>\n",
       "    </tr>\n",
       "    <tr>\n",
       "      <th>177</th>\n",
       "      <td>170.2</td>\n",
       "      <td>7.8</td>\n",
       "      <td>35.2</td>\n",
       "    </tr>\n",
       "    <tr>\n",
       "      <th>178</th>\n",
       "      <td>276.7</td>\n",
       "      <td>2.3</td>\n",
       "      <td>23.7</td>\n",
       "    </tr>\n",
       "    <tr>\n",
       "      <th>179</th>\n",
       "      <td>165.6</td>\n",
       "      <td>10.0</td>\n",
       "      <td>17.6</td>\n",
       "    </tr>\n",
       "    <tr>\n",
       "      <th>180</th>\n",
       "      <td>156.6</td>\n",
       "      <td>2.6</td>\n",
       "      <td>8.3</td>\n",
       "    </tr>\n",
       "    <tr>\n",
       "      <th>181</th>\n",
       "      <td>218.5</td>\n",
       "      <td>5.4</td>\n",
       "      <td>27.4</td>\n",
       "    </tr>\n",
       "    <tr>\n",
       "      <th>182</th>\n",
       "      <td>56.2</td>\n",
       "      <td>5.7</td>\n",
       "      <td>29.7</td>\n",
       "    </tr>\n",
       "    <tr>\n",
       "      <th>183</th>\n",
       "      <td>287.6</td>\n",
       "      <td>43.0</td>\n",
       "      <td>71.8</td>\n",
       "    </tr>\n",
       "    <tr>\n",
       "      <th>184</th>\n",
       "      <td>253.8</td>\n",
       "      <td>21.3</td>\n",
       "      <td>30.0</td>\n",
       "    </tr>\n",
       "    <tr>\n",
       "      <th>185</th>\n",
       "      <td>205.0</td>\n",
       "      <td>45.1</td>\n",
       "      <td>19.6</td>\n",
       "    </tr>\n",
       "    <tr>\n",
       "      <th>186</th>\n",
       "      <td>139.5</td>\n",
       "      <td>2.1</td>\n",
       "      <td>26.6</td>\n",
       "    </tr>\n",
       "    <tr>\n",
       "      <th>187</th>\n",
       "      <td>191.1</td>\n",
       "      <td>28.7</td>\n",
       "      <td>18.2</td>\n",
       "    </tr>\n",
       "    <tr>\n",
       "      <th>188</th>\n",
       "      <td>286.0</td>\n",
       "      <td>13.9</td>\n",
       "      <td>3.7</td>\n",
       "    </tr>\n",
       "    <tr>\n",
       "      <th>189</th>\n",
       "      <td>18.7</td>\n",
       "      <td>12.1</td>\n",
       "      <td>23.4</td>\n",
       "    </tr>\n",
       "    <tr>\n",
       "      <th>190</th>\n",
       "      <td>39.5</td>\n",
       "      <td>41.1</td>\n",
       "      <td>5.8</td>\n",
       "    </tr>\n",
       "    <tr>\n",
       "      <th>191</th>\n",
       "      <td>75.5</td>\n",
       "      <td>10.8</td>\n",
       "      <td>6.0</td>\n",
       "    </tr>\n",
       "    <tr>\n",
       "      <th>192</th>\n",
       "      <td>17.2</td>\n",
       "      <td>4.1</td>\n",
       "      <td>31.6</td>\n",
       "    </tr>\n",
       "    <tr>\n",
       "      <th>193</th>\n",
       "      <td>166.8</td>\n",
       "      <td>42.0</td>\n",
       "      <td>3.6</td>\n",
       "    </tr>\n",
       "    <tr>\n",
       "      <th>194</th>\n",
       "      <td>149.7</td>\n",
       "      <td>35.6</td>\n",
       "      <td>6.0</td>\n",
       "    </tr>\n",
       "    <tr>\n",
       "      <th>195</th>\n",
       "      <td>38.2</td>\n",
       "      <td>3.7</td>\n",
       "      <td>13.8</td>\n",
       "    </tr>\n",
       "    <tr>\n",
       "      <th>196</th>\n",
       "      <td>94.2</td>\n",
       "      <td>4.9</td>\n",
       "      <td>8.1</td>\n",
       "    </tr>\n",
       "    <tr>\n",
       "      <th>197</th>\n",
       "      <td>177.0</td>\n",
       "      <td>9.3</td>\n",
       "      <td>6.4</td>\n",
       "    </tr>\n",
       "    <tr>\n",
       "      <th>198</th>\n",
       "      <td>283.6</td>\n",
       "      <td>42.0</td>\n",
       "      <td>66.2</td>\n",
       "    </tr>\n",
       "    <tr>\n",
       "      <th>199</th>\n",
       "      <td>232.1</td>\n",
       "      <td>8.6</td>\n",
       "      <td>8.7</td>\n",
       "    </tr>\n",
       "  </tbody>\n",
       "</table>\n",
       "<p>200 rows × 3 columns</p>\n",
       "</div>"
      ],
      "text/plain": [
       "        TV  radio  newspaper\n",
       "0    230.1   37.8       69.2\n",
       "1     44.5   39.3       45.1\n",
       "2     17.2   45.9       69.3\n",
       "3    151.5   41.3       58.5\n",
       "4    180.8   10.8       58.4\n",
       "5      8.7   48.9       75.0\n",
       "6     57.5   32.8       23.5\n",
       "7    120.2   19.6       11.6\n",
       "8      8.6    2.1        1.0\n",
       "9    199.8    2.6       21.2\n",
       "10    66.1    5.8       24.2\n",
       "11   214.7   24.0        4.0\n",
       "12    23.8   35.1       65.9\n",
       "13    97.5    7.6        7.2\n",
       "14   204.1   32.9       46.0\n",
       "15   195.4   47.7       52.9\n",
       "16    67.8   36.6      114.0\n",
       "17   281.4   39.6       55.8\n",
       "18    69.2   20.5       18.3\n",
       "19   147.3   23.9       19.1\n",
       "20   218.4   27.7       53.4\n",
       "21   237.4    5.1       23.5\n",
       "22    13.2   15.9       49.6\n",
       "23   228.3   16.9       26.2\n",
       "24    62.3   12.6       18.3\n",
       "25   262.9    3.5       19.5\n",
       "26   142.9   29.3       12.6\n",
       "27   240.1   16.7       22.9\n",
       "28   248.8   27.1       22.9\n",
       "29    70.6   16.0       40.8\n",
       "..     ...    ...        ...\n",
       "170   50.0   11.6       18.4\n",
       "171  164.5   20.9       47.4\n",
       "172   19.6   20.1       17.0\n",
       "173  168.4    7.1       12.8\n",
       "174  222.4    3.4       13.1\n",
       "175  276.9   48.9       41.8\n",
       "176  248.4   30.2       20.3\n",
       "177  170.2    7.8       35.2\n",
       "178  276.7    2.3       23.7\n",
       "179  165.6   10.0       17.6\n",
       "180  156.6    2.6        8.3\n",
       "181  218.5    5.4       27.4\n",
       "182   56.2    5.7       29.7\n",
       "183  287.6   43.0       71.8\n",
       "184  253.8   21.3       30.0\n",
       "185  205.0   45.1       19.6\n",
       "186  139.5    2.1       26.6\n",
       "187  191.1   28.7       18.2\n",
       "188  286.0   13.9        3.7\n",
       "189   18.7   12.1       23.4\n",
       "190   39.5   41.1        5.8\n",
       "191   75.5   10.8        6.0\n",
       "192   17.2    4.1       31.6\n",
       "193  166.8   42.0        3.6\n",
       "194  149.7   35.6        6.0\n",
       "195   38.2    3.7       13.8\n",
       "196   94.2    4.9        8.1\n",
       "197  177.0    9.3        6.4\n",
       "198  283.6   42.0       66.2\n",
       "199  232.1    8.6        8.7\n",
       "\n",
       "[200 rows x 3 columns]"
      ]
     },
     "execution_count": 65,
     "metadata": {},
     "output_type": "execute_result"
    }
   ],
   "source": [
    "x=ad_df.iloc[:,0:3]\n",
    "x"
   ]
  },
  {
   "cell_type": "code",
   "execution_count": 66,
   "metadata": {},
   "outputs": [
    {
     "data": {
      "text/plain": [
       "array([[230.1],\n",
       "       [ 37.8],\n",
       "       [ 69.2],\n",
       "       [ 44.5],\n",
       "       [ 39.3],\n",
       "       [ 45.1],\n",
       "       [ 17.2],\n",
       "       [ 45.9],\n",
       "       [ 69.3],\n",
       "       [151.5],\n",
       "       [ 41.3],\n",
       "       [ 58.5],\n",
       "       [180.8],\n",
       "       [ 10.8],\n",
       "       [ 58.4],\n",
       "       [  8.7],\n",
       "       [ 48.9],\n",
       "       [ 75. ],\n",
       "       [ 57.5],\n",
       "       [ 32.8],\n",
       "       [ 23.5],\n",
       "       [120.2],\n",
       "       [ 19.6],\n",
       "       [ 11.6],\n",
       "       [  8.6],\n",
       "       [  2.1],\n",
       "       [  1. ],\n",
       "       [199.8],\n",
       "       [  2.6],\n",
       "       [ 21.2],\n",
       "       [ 66.1],\n",
       "       [  5.8],\n",
       "       [ 24.2],\n",
       "       [214.7],\n",
       "       [ 24. ],\n",
       "       [  4. ],\n",
       "       [ 23.8],\n",
       "       [ 35.1],\n",
       "       [ 65.9],\n",
       "       [ 97.5],\n",
       "       [  7.6],\n",
       "       [  7.2],\n",
       "       [204.1],\n",
       "       [ 32.9],\n",
       "       [ 46. ],\n",
       "       [195.4],\n",
       "       [ 47.7],\n",
       "       [ 52.9],\n",
       "       [ 67.8],\n",
       "       [ 36.6],\n",
       "       [114. ],\n",
       "       [281.4],\n",
       "       [ 39.6],\n",
       "       [ 55.8],\n",
       "       [ 69.2],\n",
       "       [ 20.5],\n",
       "       [ 18.3],\n",
       "       [147.3],\n",
       "       [ 23.9],\n",
       "       [ 19.1],\n",
       "       [218.4],\n",
       "       [ 27.7],\n",
       "       [ 53.4],\n",
       "       [237.4],\n",
       "       [  5.1],\n",
       "       [ 23.5],\n",
       "       [ 13.2],\n",
       "       [ 15.9],\n",
       "       [ 49.6],\n",
       "       [228.3],\n",
       "       [ 16.9],\n",
       "       [ 26.2],\n",
       "       [ 62.3],\n",
       "       [ 12.6],\n",
       "       [ 18.3],\n",
       "       [262.9],\n",
       "       [  3.5],\n",
       "       [ 19.5],\n",
       "       [142.9],\n",
       "       [ 29.3],\n",
       "       [ 12.6],\n",
       "       [240.1],\n",
       "       [ 16.7],\n",
       "       [ 22.9],\n",
       "       [248.8],\n",
       "       [ 27.1],\n",
       "       [ 22.9],\n",
       "       [ 70.6],\n",
       "       [ 16. ],\n",
       "       [ 40.8],\n",
       "       [292.9],\n",
       "       [ 28.3],\n",
       "       [ 43.2],\n",
       "       [112.9],\n",
       "       [ 17.4],\n",
       "       [ 38.6],\n",
       "       [ 97.2],\n",
       "       [  1.5],\n",
       "       [ 30. ],\n",
       "       [265.6],\n",
       "       [ 20. ],\n",
       "       [  0.3],\n",
       "       [ 95.7],\n",
       "       [  1.4],\n",
       "       [  7.4],\n",
       "       [290.7],\n",
       "       [  4.1],\n",
       "       [  8.5],\n",
       "       [266.9],\n",
       "       [ 43.8],\n",
       "       [  5. ],\n",
       "       [ 74.7],\n",
       "       [ 49.4],\n",
       "       [ 45.7],\n",
       "       [ 43.1],\n",
       "       [ 26.7],\n",
       "       [ 35.1],\n",
       "       [228. ],\n",
       "       [ 37.7],\n",
       "       [ 32. ],\n",
       "       [202.5],\n",
       "       [ 22.3],\n",
       "       [ 31.6],\n",
       "       [177. ],\n",
       "       [ 33.4],\n",
       "       [ 38.7],\n",
       "       [293.6],\n",
       "       [ 27.7],\n",
       "       [  1.8],\n",
       "       [206.9],\n",
       "       [  8.4],\n",
       "       [ 26.4],\n",
       "       [ 25.1],\n",
       "       [ 25.7],\n",
       "       [ 43.3],\n",
       "       [175.1],\n",
       "       [ 22.5],\n",
       "       [ 31.5],\n",
       "       [ 89.7],\n",
       "       [  9.9],\n",
       "       [ 35.7],\n",
       "       [239.9],\n",
       "       [ 41.5],\n",
       "       [ 18.5],\n",
       "       [227.2],\n",
       "       [ 15.8],\n",
       "       [ 49.9],\n",
       "       [ 66.9],\n",
       "       [ 11.7],\n",
       "       [ 36.8],\n",
       "       [199.8],\n",
       "       [  3.1],\n",
       "       [ 34.6],\n",
       "       [100.4],\n",
       "       [  9.6],\n",
       "       [  3.6],\n",
       "       [216.4],\n",
       "       [ 41.7],\n",
       "       [ 39.6],\n",
       "       [182.6],\n",
       "       [ 46.2],\n",
       "       [ 58.7],\n",
       "       [262.7],\n",
       "       [ 28.8],\n",
       "       [ 15.9],\n",
       "       [198.9],\n",
       "       [ 49.4],\n",
       "       [ 60. ],\n",
       "       [  7.3],\n",
       "       [ 28.1],\n",
       "       [ 41.4],\n",
       "       [136.2],\n",
       "       [ 19.2],\n",
       "       [ 16.6],\n",
       "       [210.8],\n",
       "       [ 49.6],\n",
       "       [ 37.7],\n",
       "       [210.7],\n",
       "       [ 29.5],\n",
       "       [  9.3],\n",
       "       [ 53.5],\n",
       "       [  2. ],\n",
       "       [ 21.4],\n",
       "       [261.3],\n",
       "       [ 42.7],\n",
       "       [ 54.7],\n",
       "       [239.3],\n",
       "       [ 15.5],\n",
       "       [ 27.3],\n",
       "       [102.7],\n",
       "       [ 29.6],\n",
       "       [  8.4],\n",
       "       [131.1],\n",
       "       [ 42.8],\n",
       "       [ 28.9],\n",
       "       [ 69. ],\n",
       "       [  9.3],\n",
       "       [  0.9],\n",
       "       [ 31.5],\n",
       "       [ 24.6],\n",
       "       [  2.2],\n",
       "       [139.3],\n",
       "       [ 14.5],\n",
       "       [ 10.2],\n",
       "       [237.4],\n",
       "       [ 27.5],\n",
       "       [ 11. ],\n",
       "       [216.8],\n",
       "       [ 43.9],\n",
       "       [ 27.2],\n",
       "       [199.1],\n",
       "       [ 30.6],\n",
       "       [ 38.7],\n",
       "       [109.8],\n",
       "       [ 14.3],\n",
       "       [ 31.7],\n",
       "       [ 26.8],\n",
       "       [ 33. ],\n",
       "       [ 19.3],\n",
       "       [129.4],\n",
       "       [  5.7],\n",
       "       [ 31.3],\n",
       "       [213.4],\n",
       "       [ 24.6],\n",
       "       [ 13.1],\n",
       "       [ 16.9],\n",
       "       [ 43.7],\n",
       "       [ 89.4],\n",
       "       [ 27.5],\n",
       "       [  1.6],\n",
       "       [ 20.7],\n",
       "       [120.5],\n",
       "       [ 28.5],\n",
       "       [ 14.2],\n",
       "       [  5.4],\n",
       "       [ 29.9],\n",
       "       [  9.4],\n",
       "       [116. ],\n",
       "       [  7.7],\n",
       "       [ 23.1],\n",
       "       [ 76.4],\n",
       "       [ 26.7],\n",
       "       [ 22.3],\n",
       "       [239.8],\n",
       "       [  4.1],\n",
       "       [ 36.9],\n",
       "       [ 75.3],\n",
       "       [ 20.3],\n",
       "       [ 32.5],\n",
       "       [ 68.4],\n",
       "       [ 44.5],\n",
       "       [ 35.6],\n",
       "       [213.5],\n",
       "       [ 43. ],\n",
       "       [ 33.8],\n",
       "       [193.2],\n",
       "       [ 18.4],\n",
       "       [ 65.7],\n",
       "       [ 76.3],\n",
       "       [ 27.5],\n",
       "       [ 16. ],\n",
       "       [110.7],\n",
       "       [ 40.6],\n",
       "       [ 63.2],\n",
       "       [ 88.3],\n",
       "       [ 25.5],\n",
       "       [ 73.4],\n",
       "       [109.8],\n",
       "       [ 47.8],\n",
       "       [ 51.4],\n",
       "       [134.3],\n",
       "       [  4.9],\n",
       "       [  9.3],\n",
       "       [ 28.6],\n",
       "       [  1.5],\n",
       "       [ 33. ],\n",
       "       [217.7],\n",
       "       [ 33.5],\n",
       "       [ 59. ],\n",
       "       [250.9],\n",
       "       [ 36.5],\n",
       "       [ 72.3],\n",
       "       [107.4],\n",
       "       [ 14. ],\n",
       "       [ 10.9],\n",
       "       [163.3],\n",
       "       [ 31.6],\n",
       "       [ 52.9],\n",
       "       [197.6],\n",
       "       [  3.5],\n",
       "       [  5.9],\n",
       "       [184.9],\n",
       "       [ 21. ],\n",
       "       [ 22. ],\n",
       "       [289.7],\n",
       "       [ 42.3],\n",
       "       [ 51.2],\n",
       "       [135.2],\n",
       "       [ 41.7],\n",
       "       [ 45.9],\n",
       "       [222.4],\n",
       "       [  4.3],\n",
       "       [ 49.8],\n",
       "       [296.4],\n",
       "       [ 36.3],\n",
       "       [100.9],\n",
       "       [280.2],\n",
       "       [ 10.1],\n",
       "       [ 21.4],\n",
       "       [187.9],\n",
       "       [ 17.2],\n",
       "       [ 17.9],\n",
       "       [238.2],\n",
       "       [ 34.3],\n",
       "       [  5.3],\n",
       "       [137.9],\n",
       "       [ 46.4],\n",
       "       [ 59. ],\n",
       "       [ 25. ],\n",
       "       [ 11. ],\n",
       "       [ 29.7],\n",
       "       [ 90.4],\n",
       "       [  0.3],\n",
       "       [ 23.2],\n",
       "       [ 13.1],\n",
       "       [  0.4],\n",
       "       [ 25.6],\n",
       "       [255.4],\n",
       "       [ 26.9],\n",
       "       [  5.5],\n",
       "       [225.8],\n",
       "       [  8.2],\n",
       "       [ 56.5],\n",
       "       [241.7],\n",
       "       [ 38. ],\n",
       "       [ 23.2],\n",
       "       [175.7],\n",
       "       [ 15.4],\n",
       "       [  2.4],\n",
       "       [209.6],\n",
       "       [ 20.6],\n",
       "       [ 10.7],\n",
       "       [ 78.2],\n",
       "       [ 46.8],\n",
       "       [ 34.5],\n",
       "       [ 75.1],\n",
       "       [ 35. ],\n",
       "       [ 52.7],\n",
       "       [139.2],\n",
       "       [ 14.3],\n",
       "       [ 25.6],\n",
       "       [ 76.4],\n",
       "       [  0.8],\n",
       "       [ 14.8],\n",
       "       [125.7],\n",
       "       [ 36.9],\n",
       "       [ 79.2],\n",
       "       [ 19.4],\n",
       "       [ 16. ],\n",
       "       [ 22.3],\n",
       "       [141.3],\n",
       "       [ 26.8],\n",
       "       [ 46.2],\n",
       "       [ 18.8],\n",
       "       [ 21.7],\n",
       "       [ 50.4],\n",
       "       [224. ],\n",
       "       [  2.4],\n",
       "       [ 15.6],\n",
       "       [123.1],\n",
       "       [ 34.6],\n",
       "       [ 12.4],\n",
       "       [229.5],\n",
       "       [ 32.3],\n",
       "       [ 74.2],\n",
       "       [ 87.2],\n",
       "       [ 11.8],\n",
       "       [ 25.9],\n",
       "       [  7.8],\n",
       "       [ 38.9],\n",
       "       [ 50.6],\n",
       "       [ 80.2],\n",
       "       [  0. ],\n",
       "       [  9.2],\n",
       "       [220.3],\n",
       "       [ 49. ],\n",
       "       [  3.2],\n",
       "       [ 59.6],\n",
       "       [ 12. ],\n",
       "       [ 43.1],\n",
       "       [  0.7],\n",
       "       [ 39.6],\n",
       "       [  8.7],\n",
       "       [265.2],\n",
       "       [  2.9],\n",
       "       [ 43. ],\n",
       "       [  8.4],\n",
       "       [ 27.2],\n",
       "       [  2.1],\n",
       "       [219.8],\n",
       "       [ 33.5],\n",
       "       [ 45.1],\n",
       "       [ 36.9],\n",
       "       [ 38.6],\n",
       "       [ 65.6],\n",
       "       [ 48.3],\n",
       "       [ 47. ],\n",
       "       [  8.5],\n",
       "       [ 25.6],\n",
       "       [ 39. ],\n",
       "       [  9.3],\n",
       "       [273.7],\n",
       "       [ 28.9],\n",
       "       [ 59.7],\n",
       "       [ 43. ],\n",
       "       [ 25.9],\n",
       "       [ 20.5],\n",
       "       [184.9],\n",
       "       [ 43.9],\n",
       "       [  1.7],\n",
       "       [ 73.4],\n",
       "       [ 17. ],\n",
       "       [ 12.9],\n",
       "       [193.7],\n",
       "       [ 35.4],\n",
       "       [ 75.6],\n",
       "       [220.5],\n",
       "       [ 33.2],\n",
       "       [ 37.9],\n",
       "       [104.6],\n",
       "       [  5.7],\n",
       "       [ 34.4],\n",
       "       [ 96.2],\n",
       "       [ 14.8],\n",
       "       [ 38.9],\n",
       "       [140.3],\n",
       "       [  1.9],\n",
       "       [  9. ],\n",
       "       [240.1],\n",
       "       [  7.3],\n",
       "       [  8.7],\n",
       "       [243.2],\n",
       "       [ 49. ],\n",
       "       [ 44.3],\n",
       "       [ 38. ],\n",
       "       [ 40.3],\n",
       "       [ 11.9],\n",
       "       [ 44.7],\n",
       "       [ 25.8],\n",
       "       [ 20.6],\n",
       "       [280.7],\n",
       "       [ 13.9],\n",
       "       [ 37. ],\n",
       "       [121. ],\n",
       "       [  8.4],\n",
       "       [ 48.7],\n",
       "       [197.6],\n",
       "       [ 23.3],\n",
       "       [ 14.2],\n",
       "       [171.3],\n",
       "       [ 39.7],\n",
       "       [ 37.7],\n",
       "       [187.8],\n",
       "       [ 21.1],\n",
       "       [  9.5],\n",
       "       [  4.1],\n",
       "       [ 11.6],\n",
       "       [  5.7],\n",
       "       [ 93.9],\n",
       "       [ 43.5],\n",
       "       [ 50.5],\n",
       "       [149.8],\n",
       "       [  1.3],\n",
       "       [ 24.3],\n",
       "       [ 11.7],\n",
       "       [ 36.9],\n",
       "       [ 45.2],\n",
       "       [131.7],\n",
       "       [ 18.4],\n",
       "       [ 34.6],\n",
       "       [172.5],\n",
       "       [ 18.1],\n",
       "       [ 30.7],\n",
       "       [ 85.7],\n",
       "       [ 35.8],\n",
       "       [ 49.3],\n",
       "       [188.4],\n",
       "       [ 18.1],\n",
       "       [ 25.6],\n",
       "       [163.5],\n",
       "       [ 36.8],\n",
       "       [  7.4],\n",
       "       [117.2],\n",
       "       [ 14.7],\n",
       "       [  5.4],\n",
       "       [234.5],\n",
       "       [  3.4],\n",
       "       [ 84.8],\n",
       "       [ 17.9],\n",
       "       [ 37.6],\n",
       "       [ 21.6],\n",
       "       [206.8],\n",
       "       [  5.2],\n",
       "       [ 19.4],\n",
       "       [215.4],\n",
       "       [ 23.6],\n",
       "       [ 57.6],\n",
       "       [284.3],\n",
       "       [ 10.6],\n",
       "       [  6.4],\n",
       "       [ 50. ],\n",
       "       [ 11.6],\n",
       "       [ 18.4],\n",
       "       [164.5],\n",
       "       [ 20.9],\n",
       "       [ 47.4],\n",
       "       [ 19.6],\n",
       "       [ 20.1],\n",
       "       [ 17. ],\n",
       "       [168.4],\n",
       "       [  7.1],\n",
       "       [ 12.8],\n",
       "       [222.4],\n",
       "       [  3.4],\n",
       "       [ 13.1],\n",
       "       [276.9],\n",
       "       [ 48.9],\n",
       "       [ 41.8],\n",
       "       [248.4],\n",
       "       [ 30.2],\n",
       "       [ 20.3],\n",
       "       [170.2],\n",
       "       [  7.8],\n",
       "       [ 35.2],\n",
       "       [276.7],\n",
       "       [  2.3],\n",
       "       [ 23.7],\n",
       "       [165.6],\n",
       "       [ 10. ],\n",
       "       [ 17.6],\n",
       "       [156.6],\n",
       "       [  2.6],\n",
       "       [  8.3],\n",
       "       [218.5],\n",
       "       [  5.4],\n",
       "       [ 27.4],\n",
       "       [ 56.2],\n",
       "       [  5.7],\n",
       "       [ 29.7],\n",
       "       [287.6],\n",
       "       [ 43. ],\n",
       "       [ 71.8],\n",
       "       [253.8],\n",
       "       [ 21.3],\n",
       "       [ 30. ],\n",
       "       [205. ],\n",
       "       [ 45.1],\n",
       "       [ 19.6],\n",
       "       [139.5],\n",
       "       [  2.1],\n",
       "       [ 26.6],\n",
       "       [191.1],\n",
       "       [ 28.7],\n",
       "       [ 18.2],\n",
       "       [286. ],\n",
       "       [ 13.9],\n",
       "       [  3.7],\n",
       "       [ 18.7],\n",
       "       [ 12.1],\n",
       "       [ 23.4],\n",
       "       [ 39.5],\n",
       "       [ 41.1],\n",
       "       [  5.8],\n",
       "       [ 75.5],\n",
       "       [ 10.8],\n",
       "       [  6. ],\n",
       "       [ 17.2],\n",
       "       [  4.1],\n",
       "       [ 31.6],\n",
       "       [166.8],\n",
       "       [ 42. ],\n",
       "       [  3.6],\n",
       "       [149.7],\n",
       "       [ 35.6],\n",
       "       [  6. ],\n",
       "       [ 38.2],\n",
       "       [  3.7],\n",
       "       [ 13.8],\n",
       "       [ 94.2],\n",
       "       [  4.9],\n",
       "       [  8.1],\n",
       "       [177. ],\n",
       "       [  9.3],\n",
       "       [  6.4],\n",
       "       [283.6],\n",
       "       [ 42. ],\n",
       "       [ 66.2],\n",
       "       [232.1],\n",
       "       [  8.6],\n",
       "       [  8.7]])"
      ]
     },
     "execution_count": 66,
     "metadata": {},
     "output_type": "execute_result"
    }
   ],
   "source": [
    "x=ad_df.iloc[:,0:3].values.reshape(-1,1)\n",
    "x"
   ]
  },
  {
   "cell_type": "code",
   "execution_count": 88,
   "metadata": {},
   "outputs": [
    {
     "name": "stdout",
     "output_type": "stream",
     "text": [
      "[230.1  44.5  17.2 151.5 180.8   8.7  57.5 120.2   8.6 199.8  66.1 214.7\n",
      "  23.8  97.5 204.1 195.4  67.8 281.4  69.2 147.3 218.4 237.4  13.2 228.3\n",
      "  62.3 262.9 142.9 240.1 248.8  70.6 292.9 112.9  97.2 265.6  95.7 290.7\n",
      " 266.9  74.7  43.1 228.  202.5 177.  293.6 206.9  25.1 175.1  89.7 239.9\n",
      " 227.2  66.9 199.8 100.4 216.4 182.6 262.7 198.9   7.3 136.2 210.8 210.7\n",
      "  53.5 261.3 239.3 102.7 131.1  69.   31.5 139.3 237.4 216.8 199.1 109.8\n",
      "  26.8 129.4 213.4  16.9  27.5 120.5   5.4 116.   76.4 239.8  75.3  68.4\n",
      " 213.5 193.2  76.3 110.7  88.3 109.8 134.3  28.6 217.7 250.9 107.4 163.3\n",
      " 197.6 184.9 289.7 135.2 222.4 296.4 280.2 187.9 238.2 137.9  25.   90.4\n",
      "  13.1 255.4 225.8 241.7 175.7 209.6  78.2  75.1 139.2  76.4 125.7  19.4\n",
      " 141.3  18.8 224.  123.1 229.5  87.2   7.8  80.2 220.3  59.6   0.7 265.2\n",
      "   8.4 219.8  36.9  48.3  25.6 273.7  43.  184.9  73.4 193.7 220.5 104.6\n",
      "  96.2 140.3 240.1 243.2  38.   44.7 280.7 121.  197.6 171.3 187.8   4.1\n",
      "  93.9 149.8  11.7 131.7 172.5  85.7 188.4 163.5 117.2 234.5  17.9 206.8\n",
      " 215.4 284.3  50.  164.5  19.6 168.4 222.4 276.9 248.4 170.2 276.7 165.6\n",
      " 156.6 218.5  56.2 287.6 253.8 205.  139.5 191.1 286.   18.7  39.5  75.5\n",
      "  17.2 166.8 149.7  38.2  94.2 177.  283.6 232.1]\n",
      "[[22.1]\n",
      " [10.4]\n",
      " [ 9.3]\n",
      " [18.5]\n",
      " [12.9]\n",
      " [ 7.2]\n",
      " [11.8]\n",
      " [13.2]\n",
      " [ 4.8]\n",
      " [10.6]\n",
      " [ 8.6]\n",
      " [17.4]\n",
      " [ 9.2]\n",
      " [ 9.7]\n",
      " [19. ]\n",
      " [22.4]\n",
      " [12.5]\n",
      " [24.4]\n",
      " [11.3]\n",
      " [14.6]\n",
      " [18. ]\n",
      " [12.5]\n",
      " [ 5.6]\n",
      " [15.5]\n",
      " [ 9.7]\n",
      " [12. ]\n",
      " [15. ]\n",
      " [15.9]\n",
      " [18.9]\n",
      " [10.5]\n",
      " [21.4]\n",
      " [11.9]\n",
      " [ 9.6]\n",
      " [17.4]\n",
      " [ 9.5]\n",
      " [12.8]\n",
      " [25.4]\n",
      " [14.7]\n",
      " [10.1]\n",
      " [21.5]\n",
      " [16.6]\n",
      " [17.1]\n",
      " [20.7]\n",
      " [12.9]\n",
      " [ 8.5]\n",
      " [14.9]\n",
      " [10.6]\n",
      " [23.2]\n",
      " [14.8]\n",
      " [ 9.7]\n",
      " [11.4]\n",
      " [10.7]\n",
      " [22.6]\n",
      " [21.2]\n",
      " [20.2]\n",
      " [23.7]\n",
      " [ 5.5]\n",
      " [13.2]\n",
      " [23.8]\n",
      " [18.4]\n",
      " [ 8.1]\n",
      " [24.2]\n",
      " [15.7]\n",
      " [14. ]\n",
      " [18. ]\n",
      " [ 9.3]\n",
      " [ 9.5]\n",
      " [13.4]\n",
      " [18.9]\n",
      " [22.3]\n",
      " [18.3]\n",
      " [12.4]\n",
      " [ 8.8]\n",
      " [11. ]\n",
      " [17. ]\n",
      " [ 8.7]\n",
      " [ 6.9]\n",
      " [14.2]\n",
      " [ 5.3]\n",
      " [11. ]\n",
      " [11.8]\n",
      " [12.3]\n",
      " [11.3]\n",
      " [13.6]\n",
      " [21.7]\n",
      " [15.2]\n",
      " [12. ]\n",
      " [16. ]\n",
      " [12.9]\n",
      " [16.7]\n",
      " [11.2]\n",
      " [ 7.3]\n",
      " [19.4]\n",
      " [22.2]\n",
      " [11.5]\n",
      " [16.9]\n",
      " [11.7]\n",
      " [15.5]\n",
      " [25.4]\n",
      " [17.2]\n",
      " [11.7]\n",
      " [23.8]\n",
      " [14.8]\n",
      " [14.7]\n",
      " [20.7]\n",
      " [19.2]\n",
      " [ 7.2]\n",
      " [ 8.7]\n",
      " [ 5.3]\n",
      " [19.8]\n",
      " [13.4]\n",
      " [21.8]\n",
      " [14.1]\n",
      " [15.9]\n",
      " [14.6]\n",
      " [12.6]\n",
      " [12.2]\n",
      " [ 9.4]\n",
      " [15.9]\n",
      " [ 6.6]\n",
      " [15.5]\n",
      " [ 7. ]\n",
      " [11.6]\n",
      " [15.2]\n",
      " [19.7]\n",
      " [10.6]\n",
      " [ 6.6]\n",
      " [ 8.8]\n",
      " [24.7]\n",
      " [ 9.7]\n",
      " [ 1.6]\n",
      " [12.7]\n",
      " [ 5.7]\n",
      " [19.6]\n",
      " [10.8]\n",
      " [11.6]\n",
      " [ 9.5]\n",
      " [20.8]\n",
      " [ 9.6]\n",
      " [20.7]\n",
      " [10.9]\n",
      " [19.2]\n",
      " [20.1]\n",
      " [10.4]\n",
      " [11.4]\n",
      " [10.3]\n",
      " [13.2]\n",
      " [25.4]\n",
      " [10.9]\n",
      " [10.1]\n",
      " [16.1]\n",
      " [11.6]\n",
      " [16.6]\n",
      " [19. ]\n",
      " [15.6]\n",
      " [ 3.2]\n",
      " [15.3]\n",
      " [10.1]\n",
      " [ 7.3]\n",
      " [12.9]\n",
      " [14.4]\n",
      " [13.3]\n",
      " [14.9]\n",
      " [18. ]\n",
      " [11.9]\n",
      " [11.9]\n",
      " [ 8. ]\n",
      " [12.2]\n",
      " [17.1]\n",
      " [15. ]\n",
      " [ 8.4]\n",
      " [14.5]\n",
      " [ 7.6]\n",
      " [11.7]\n",
      " [11.5]\n",
      " [27. ]\n",
      " [20.2]\n",
      " [11.7]\n",
      " [11.8]\n",
      " [12.6]\n",
      " [10.5]\n",
      " [12.2]\n",
      " [ 8.7]\n",
      " [26.2]\n",
      " [17.6]\n",
      " [22.6]\n",
      " [10.3]\n",
      " [17.3]\n",
      " [15.9]\n",
      " [ 6.7]\n",
      " [10.8]\n",
      " [ 9.9]\n",
      " [ 5.9]\n",
      " [19.6]\n",
      " [17.3]\n",
      " [ 7.6]\n",
      " [ 9.7]\n",
      " [12.8]\n",
      " [25.5]\n",
      " [13.4]]\n"
     ]
    }
   ],
   "source": [
    "x=ad_df.iloc[:,0].values\n",
    "print(x)\n",
    "y=ad_df[\"sales\"].values.reshape(-1,1)\n",
    "print(y)"
   ]
  },
  {
   "cell_type": "code",
   "execution_count": 71,
   "metadata": {},
   "outputs": [],
   "source": [
    "from sklearn.linear_model import LinearRegression"
   ]
  },
  {
   "cell_type": "code",
   "execution_count": 72,
   "metadata": {},
   "outputs": [],
   "source": [
    "lin=LinearRegression()"
   ]
  },
  {
   "cell_type": "code",
   "execution_count": 73,
   "metadata": {},
   "outputs": [
    {
     "data": {
      "text/plain": [
       "LinearRegression(copy_X=True, fit_intercept=True, n_jobs=None, normalize=False)"
      ]
     },
     "execution_count": 73,
     "metadata": {},
     "output_type": "execute_result"
    }
   ],
   "source": [
    "lin.fit(x,y)"
   ]
  },
  {
   "cell_type": "code",
   "execution_count": 74,
   "metadata": {},
   "outputs": [
    {
     "data": {
      "text/plain": [
       "array([[20.52397441],\n",
       "       [12.33785482],\n",
       "       [12.30767078],\n",
       "       [17.59782951],\n",
       "       [13.18867186],\n",
       "       [12.47834763],\n",
       "       [11.72975995],\n",
       "       [12.12295317],\n",
       "       [ 3.72734086],\n",
       "       [12.55084872],\n",
       "       [ 7.0322992 ],\n",
       "       [17.28512918],\n",
       "       [10.57712073],\n",
       "       [ 8.82630048],\n",
       "       [18.43436638],\n",
       "       [20.81929952],\n",
       "       [12.82365674],\n",
       "       [23.22495716],\n",
       "       [ 9.95168206],\n",
       "       [14.16607293],\n",
       "       [18.10076728],\n",
       "       [14.7405382 ],\n",
       "       [ 6.4891503 ],\n",
       "       [16.5459329 ],\n",
       "       [ 8.14651887],\n",
       "       [15.6100386 ],\n",
       "       [14.98951429],\n",
       "       [17.05167344],\n",
       "       [19.41053803],\n",
       "       [ 9.14402389],\n",
       "       [21.6339338 ],\n",
       "       [11.3460929 ],\n",
       "       [ 7.63888314],\n",
       "       [18.86426829],\n",
       "       [ 7.57483051],\n",
       "       [17.00682618],\n",
       "       [23.40590052],\n",
       "       [15.62347779],\n",
       "       [ 9.90868103],\n",
       "       [20.44761039],\n",
       "       [16.37766467],\n",
       "       [17.2959832 ],\n",
       "       [21.59580326],\n",
       "       [13.96385684],\n",
       "       [ 8.88787996],\n",
       "       [15.16152314],\n",
       "       [ 8.87338673],\n",
       "       [21.7226299 ],\n",
       "       [16.26362018],\n",
       "       [ 8.1681656 ],\n",
       "       [12.63121132],\n",
       "       [ 9.33981296],\n",
       "       [20.66297563],\n",
       "       [19.94469957],\n",
       "       [20.37443008],\n",
       "       [21.2926106 ],\n",
       "       [ 8.52771254],\n",
       "       [12.77458802],\n",
       "       [21.89805198],\n",
       "       [18.13348698],\n",
       "       [ 5.74215558],\n",
       "       [22.89067208],\n",
       "       [16.78426073],\n",
       "       [13.21069202],\n",
       "       [16.97773556],\n",
       "       [ 7.84904532],\n",
       "       [ 9.01603163],\n",
       "       [12.0370073 ],\n",
       "       [18.97657924],\n",
       "       [21.10891244],\n",
       "       [17.77949782],\n",
       "       [10.62693815],\n",
       "       [10.36684881],\n",
       "       [ 9.90298206],\n",
       "       [17.32931197],\n",
       "       [11.85832174],\n",
       "       [ 4.47758904],\n",
       "       [13.81190223],\n",
       "       [ 8.81331353],\n",
       "       [ 9.67530328],\n",
       "       [11.44592364],\n",
       "       [14.64794093],\n",
       "       [10.17840799],\n",
       "       [14.42184212],\n",
       "       [20.78136464],\n",
       "       [15.18140789],\n",
       "       [11.59870739],\n",
       "       [15.59378475],\n",
       "       [11.71127101],\n",
       "       [16.92225511],\n",
       "       [ 9.99922965],\n",
       "       [ 4.49631598],\n",
       "       [19.15639616],\n",
       "       [21.22757378],\n",
       "       [10.48212385],\n",
       "       [16.31492112],\n",
       "       [12.63571716],\n",
       "       [15.33707782],\n",
       "       [24.11860723],\n",
       "       [16.94035021],\n",
       "       [13.87595844],\n",
       "       [23.24248685],\n",
       "       [17.64409385],\n",
       "       [14.76221142],\n",
       "       [20.30110878],\n",
       "       [17.93641467],\n",
       "       [ 6.12602215],\n",
       "       [ 7.10850249],\n",
       "       [ 3.58725841],\n",
       "       [19.69293106],\n",
       "       [14.7598741 ],\n",
       "       [21.14027498],\n",
       "       [13.88060985],\n",
       "       [16.40377623],\n",
       "       [15.30509593],\n",
       "       [12.91968895],\n",
       "       [11.97874744],\n",
       "       [ 6.5707774 ],\n",
       "       [15.56609348],\n",
       "       [ 6.82006767],\n",
       "       [14.41010605],\n",
       "       [ 7.83807642],\n",
       "       [13.6264571 ],\n",
       "       [15.0827909 ],\n",
       "       [19.45441306],\n",
       "       [ 9.12734958],\n",
       "       [10.57717411],\n",
       "       [ 6.599669  ],\n",
       "       [22.25549161],\n",
       "       [ 7.88410649],\n",
       "       [10.4276871 ],\n",
       "       [15.57779819],\n",
       "       [ 8.44915012],\n",
       "       [19.26692307],\n",
       "       [11.8368039 ],\n",
       "       [14.00141385],\n",
       "       [11.45348627],\n",
       "       [20.85125198],\n",
       "       [ 9.76842795],\n",
       "       [19.67547632],\n",
       "       [ 9.48964097],\n",
       "       [18.39902932],\n",
       "       [19.24986927],\n",
       "       [ 8.76480262],\n",
       "       [10.09133403],\n",
       "       [ 9.70853872],\n",
       "       [15.29422368],\n",
       "       [23.26086103],\n",
       "       [12.26335941],\n",
       "       [ 9.8272711 ],\n",
       "       [18.36720534],\n",
       "       [10.0095377 ],\n",
       "       [16.3600003 ],\n",
       "       [18.22390132],\n",
       "       [15.50161696],\n",
       "       [ 5.3075589 ],\n",
       "       [15.38485192],\n",
       "       [10.0143112 ],\n",
       "       [10.38419866],\n",
       "       [12.39914823],\n",
       "       [14.21383298],\n",
       "       [13.55914568],\n",
       "       [14.94678206],\n",
       "       [17.35163608],\n",
       "       [11.0682946 ],\n",
       "       [14.22372138],\n",
       "       [10.82439531],\n",
       "       [13.36324677],\n",
       "       [17.1861428 ],\n",
       "       [17.9415563 ],\n",
       "       [ 7.39497997],\n",
       "       [14.35827373],\n",
       "       [ 7.60769238],\n",
       "       [11.97093887],\n",
       "       [13.74435742],\n",
       "       [24.78687031],\n",
       "       [19.9793727 ],\n",
       "       [12.1620464 ],\n",
       "       [16.01099722],\n",
       "       [12.38455495],\n",
       "       [10.5871997 ],\n",
       "       [13.92809918],\n",
       "       [ 6.55467   ],\n",
       "       [24.13310013],\n",
       "       [18.53852096],\n",
       "       [20.80301059],\n",
       "       [ 9.69137313],\n",
       "       [17.07644223],\n",
       "       [18.64430648],\n",
       "       [ 6.05162411],\n",
       "       [12.4891591 ],\n",
       "       [ 8.42401933],\n",
       "       [ 4.46622956],\n",
       "       [18.48695797],\n",
       "       [16.49530044],\n",
       "       [ 5.37034248],\n",
       "       [ 8.16531236],\n",
       "       [12.78592082],\n",
       "       [23.76732149],\n",
       "       [15.17319554]])"
      ]
     },
     "execution_count": 74,
     "metadata": {},
     "output_type": "execute_result"
    }
   ],
   "source": [
    "y_predict=lin.predict(x)\n",
    "y_predict"
   ]
  },
  {
   "cell_type": "code",
   "execution_count": 75,
   "metadata": {},
   "outputs": [
    {
     "data": {
      "text/plain": [
       "array([[13.18867186]])"
      ]
     },
     "execution_count": 75,
     "metadata": {},
     "output_type": "execute_result"
    }
   ],
   "source": [
    "lin.predict([[180.8,10.8,58.4]])"
   ]
  },
  {
   "cell_type": "code",
   "execution_count": 77,
   "metadata": {},
   "outputs": [
    {
     "data": {
      "text/plain": [
       "array([[12.30767078]])"
      ]
     },
     "execution_count": 77,
     "metadata": {},
     "output_type": "execute_result"
    }
   ],
   "source": [
    "lin.predict([[17.2,45.9,69.3 ]])"
   ]
  },
  {
   "cell_type": "code",
   "execution_count": 78,
   "metadata": {},
   "outputs": [
    {
     "data": {
      "image/png": "[encoded data removed]",
      "text/plain": [
       "<Figure size 432x288 with 1 Axes>"
      ]
     },
     "metadata": {
      "needs_background": "light"
     },
     "output_type": "display_data"
    }
   ],
   "source": [
    "plt.scatter(ad_df[\"radio\"],y,c='r',label=\"Before prediction\")\n",
    "plt.plot(x,y_predict,c='y',label=\" After prediction with LinearRegression \")\n",
    "plt.xlabel(\"cost of Tv,radio,news paper\")\n",
    "plt.ylabel(\"sales\")\n",
    "plt.title(\"Linear regression\")\n",
    "plt.legend(\"best\")\n",
    "plt.show()"
   ]
  },
  {
   "cell_type": "code",
   "execution_count": 79,
   "metadata": {},
   "outputs": [],
   "source": [
    "from  sklearn.preprocessing import PolynomialFeatures\n",
    "poly_feat=PolynomialFeatures()"
   ]
  },
  {
   "cell_type": "code",
   "execution_count": 80,
   "metadata": {},
   "outputs": [
    {
     "data": {
      "text/plain": [
       "PolynomialFeatures(degree=2, include_bias=True, interaction_only=False,\n",
       "                   order='C')"
      ]
     },
     "execution_count": 80,
     "metadata": {},
     "output_type": "execute_result"
    }
   ],
   "source": [
    "x_poly=poly_feat.fit_transform(x)\n",
    "poly_feat.fit(x_poly,y)"
   ]
  },
  {
   "cell_type": "code",
   "execution_count": 81,
   "metadata": {},
   "outputs": [
    {
     "data": {
      "text/plain": [
       "LinearRegression(copy_X=True, fit_intercept=True, n_jobs=None, normalize=False)"
      ]
     },
     "execution_count": 81,
     "metadata": {},
     "output_type": "execute_result"
    }
   ],
   "source": [
    "lin.fit(x_poly,y)"
   ]
  },
  {
   "cell_type": "code",
   "execution_count": 82,
   "metadata": {},
   "outputs": [],
   "source": [
    "y_predictions=lin.predict(x_poly)"
   ]
  },
  {
   "cell_type": "code",
   "execution_count": 83,
   "metadata": {},
   "outputs": [
    {
     "data": {
      "text/plain": [
       "array([[ 0.00000000e+00,  5.16525487e-02,  2.10742970e-02,\n",
       "         6.88373531e-03, -1.09702663e-04,  1.10525949e-03,\n",
       "        -4.55155391e-05,  1.11997015e-04,  8.26605896e-05,\n",
       "         1.19125650e-05]])"
      ]
     },
     "execution_count": 83,
     "metadata": {},
     "output_type": "execute_result"
    }
   ],
   "source": [
    "lin.coef_"
   ]
  },
  {
   "cell_type": "code",
   "execution_count": 84,
   "metadata": {},
   "outputs": [
    {
     "data": {
      "text/plain": [
       "array([5.08478167])"
      ]
     },
     "execution_count": 84,
     "metadata": {},
     "output_type": "execute_result"
    }
   ],
   "source": [
    "lin.intercept_"
   ]
  },
  {
   "cell_type": "code",
   "execution_count": 90,
   "metadata": {},
   "outputs": [
    {
     "data": {
      "image/png": "[encoded data removed]",
      "text/plain": [
       "<Figure size 432x288 with 1 Axes>"
      ]
     },
     "metadata": {
      "needs_background": "light"
     },
     "output_type": "display_data"
    }
   ],
   "source": [
    "plt.scatter(ad_df[\"TV\"],y,c='r',label=\"Before prediction\")\n",
    "plt.plot(x,y_predictions,c='y',label=\" After prediction with LinearRegression \")\n",
    "plt.xlabel(\"cost of Tv,radio,news paper\")\n",
    "plt.ylabel(\"sales\")\n",
    "plt.title(\"Linear regression\")\n",
    "plt.legend(\"best\")\n",
    "plt.show()"
   ]
  },
  {
   "cell_type": "markdown",
   "metadata": {},
   "source": [
    "## Ridge regression (for overfitting we use this)"
   ]
  },
  {
   "cell_type": "markdown",
   "metadata": {},
   "source": [
    "## Lasso regression(for underfitting)  (types of regularization techniques)"
   ]
  },
  {
   "cell_type": "markdown",
   "metadata": {},
   "source": [
    "#regularization(alpha=0<alpha<infinity)--->RidgeRegression(Tikhonov regularization)"
   ]
  },
  {
   "cell_type": "code",
   "execution_count": 91,
   "metadata": {},
   "outputs": [],
   "source": [
    "from sklearn.linear_model import Ridge"
   ]
  },
  {
   "cell_type": "code",
   "execution_count": 93,
   "metadata": {},
   "outputs": [
    {
     "data": {
      "text/plain": [
       "['__abstractmethods__',\n",
       " '__class__',\n",
       " '__delattr__',\n",
       " '__dict__',\n",
       " '__dir__',\n",
       " '__doc__',\n",
       " '__eq__',\n",
       " '__format__',\n",
       " '__ge__',\n",
       " '__getattribute__',\n",
       " '__getstate__',\n",
       " '__gt__',\n",
       " '__hash__',\n",
       " '__init__',\n",
       " '__init_subclass__',\n",
       " '__le__',\n",
       " '__lt__',\n",
       " '__module__',\n",
       " '__ne__',\n",
       " '__new__',\n",
       " '__reduce__',\n",
       " '__reduce_ex__',\n",
       " '__repr__',\n",
       " '__setattr__',\n",
       " '__setstate__',\n",
       " '__sizeof__',\n",
       " '__str__',\n",
       " '__subclasshook__',\n",
       " '__weakref__',\n",
       " '_abc_impl',\n",
       " '_decision_function',\n",
       " '_estimator_type',\n",
       " '_get_param_names',\n",
       " '_get_tags',\n",
       " '_more_tags',\n",
       " '_preprocess_data',\n",
       " '_set_intercept',\n",
       " 'fit',\n",
       " 'get_params',\n",
       " 'predict',\n",
       " 'score',\n",
       " 'set_params']"
      ]
     },
     "execution_count": 93,
     "metadata": {},
     "output_type": "execute_result"
    }
   ],
   "source": [
    "dir(Ridge)"
   ]
  },
  {
   "cell_type": "code",
   "execution_count": 94,
   "metadata": {},
   "outputs": [],
   "source": [
    "r=Ridge()"
   ]
  },
  {
   "cell_type": "code",
   "execution_count": 97,
   "metadata": {},
   "outputs": [
    {
     "name": "stdout",
     "output_type": "stream",
     "text": [
      "(100, 1)\n",
      "(100, 1)\n"
     ]
    }
   ],
   "source": [
    "x2=6*np.random.rand(100,1)\n",
    "y2=0.5*x2**2+x2*2+np.random.rand(100,1)\n",
    "print(x2.shape)\n",
    "print(y2.shape)"
   ]
  },
  {
   "cell_type": "code",
   "execution_count": 98,
   "metadata": {},
   "outputs": [
    {
     "data": {
      "text/plain": [
       "Ridge(alpha=1, copy_X=True, fit_intercept=True, max_iter=None, normalize=False,\n",
       "      random_state=None, solver='cholesky', tol=0.001)"
      ]
     },
     "execution_count": 98,
     "metadata": {},
     "output_type": "execute_result"
    }
   ],
   "source": [
    "r=Ridge(alpha=1,solver=\"cholesky\") \n",
    "r                                 #auto,svd,isqr,sparse_cg,sag,saga"
   ]
  },
  {
   "cell_type": "code",
   "execution_count": 100,
   "metadata": {},
   "outputs": [
    {
     "data": {
      "text/plain": [
       "Ridge(alpha=1, copy_X=True, fit_intercept=True, max_iter=None, normalize=False,\n",
       "      random_state=None, solver='cholesky', tol=0.001)"
      ]
     },
     "execution_count": 100,
     "metadata": {},
     "output_type": "execute_result"
    }
   ],
   "source": [
    "r.fit(x2,y2)"
   ]
  },
  {
   "cell_type": "code",
   "execution_count": 101,
   "metadata": {},
   "outputs": [
    {
     "data": {
      "text/plain": [
       "array([[2.01220945]])"
      ]
     },
     "execution_count": 101,
     "metadata": {},
     "output_type": "execute_result"
    }
   ],
   "source": [
    "r.predict([[0.889]])"
   ]
  },
  {
   "cell_type": "code",
   "execution_count": null,
   "metadata": {},
   "outputs": [],
   "source": []
  }
 ],
 "metadata": {
  "kernelspec": {
   "display_name": "Python 3",
   "language": "python",
   "name": "python3"
  },
  "language_info": {
   "codemirror_mode": {
    "name": "ipython",
    "version": 3
   },
   "file_extension": ".py",
   "mimetype": "text/x-python",
   "name": "python",
   "nbconvert_exporter": "python",
   "pygments_lexer": "ipython3",
   "version": "3.7.3"
  }
 },
 "nbformat": 4,
 "nbformat_minor": 2
}
